{
  "nbformat": 4,
  "nbformat_minor": 0,
  "metadata": {
    "colab": {
      "name": "IMDB-SQL-Pthon.ipynb",
      "provenance": [],
      "authorship_tag": "ABX9TyMUM9WwHMQS59An99VTDiMR",
      "include_colab_link": true
    },
    "kernelspec": {
      "name": "python3",
      "display_name": "Python 3"
    },
    "language_info": {
      "name": "python"
    }
  },
  "cells": [
    {
      "cell_type": "markdown",
      "metadata": {
        "id": "view-in-github",
        "colab_type": "text"
      },
      "source": [
        "<a href=\"https://colab.research.google.com/github/RaquelQuei/IMDB-SQL-Python/blob/main/IMDB_SQL_Pthon.ipynb\" target=\"_parent\"><img src=\"https://colab.research.google.com/assets/colab-badge.svg\" alt=\"Open In Colab\"/></a>"
      ]
    },
    {
      "cell_type": "code",
      "metadata": {
        "id": "3gfMYB4XeGDT"
      },
      "source": [
        "from platform import python_version"
      ],
      "execution_count": null,
      "outputs": []
    },
    {
      "cell_type": "code",
      "metadata": {
        "colab": {
          "base_uri": "https://localhost:8080/"
        },
        "id": "btu1U_rFeXXl",
        "outputId": "385bdb69-7417-4fc9-df97-0902767877f7"
      },
      "source": [
        "print(python_version())"
      ],
      "execution_count": null,
      "outputs": [
        {
          "output_type": "stream",
          "text": [
            "3.7.11\n"
          ],
          "name": "stdout"
        }
      ]
    },
    {
      "cell_type": "code",
      "metadata": {
        "id": "iMco5Kn_eYJm"
      },
      "source": [
        "!pip install -q imdb-sqlite"
      ],
      "execution_count": null,
      "outputs": []
    },
    {
      "cell_type": "code",
      "metadata": {
        "colab": {
          "base_uri": "https://localhost:8080/"
        },
        "id": "J1k6cUVNebqM",
        "outputId": "bca0f8ce-3706-4ff9-8467-9bcd0b21909b"
      },
      "source": [
        "!pip install -q pycountry"
      ],
      "execution_count": null,
      "outputs": [
        {
          "output_type": "stream",
          "text": [
            "\u001b[K     |████████████████████████████████| 10.1 MB 5.2 MB/s \n",
            "\u001b[?25h  Building wheel for pycountry (setup.py) ... \u001b[?25l\u001b[?25hdone\n"
          ],
          "name": "stdout"
        }
      ]
    },
    {
      "cell_type": "code",
      "metadata": {
        "id": "7KC_bdCOehCa"
      },
      "source": [
        "#imports\n",
        "import re\n",
        "import time\n",
        "import sqlite3\n",
        "import pycountry\n",
        "import numpy as np\n",
        "import pandas as pd\n",
        "import matplotlib.pyplot as plt\n",
        "import seaborn as sns\n",
        "from matplotlib import cm \n",
        "from sklearn.feature_extraction.text import CountVectorizer\n",
        "import warnings\n",
        "warnings.filterwarnings(\"ignore\")\n",
        "sns.set_theme(style = \"whitegrid\")"
      ],
      "execution_count": null,
      "outputs": []
    },
    {
      "cell_type": "markdown",
      "metadata": {
        "id": "GPtrUBhAenus"
      },
      "source": [
        "#Carregando os Dados"
      ]
    },
    {
      "cell_type": "code",
      "metadata": {
        "colab": {
          "base_uri": "https://localhost:8080/"
        },
        "id": "eES7aSDoeo8J",
        "outputId": "7675c614-987d-4b82-e675-6e37b22b70ae"
      },
      "source": [
        "%%time\n",
        "!imdb-sqlite"
      ],
      "execution_count": null,
      "outputs": [
        {
          "output_type": "stream",
          "text": [
            "2021-08-25 18:03:01,666 GET https://datasets.imdbws.com/name.basics.tsv.gz -> downloads/name.basics.tsv.gz\n",
            "2021-08-25 18:03:05,300 GET https://datasets.imdbws.com/title.basics.tsv.gz -> downloads/title.basics.tsv.gz\n",
            "2021-08-25 18:03:07,846 GET https://datasets.imdbws.com/title.akas.tsv.gz -> downloads/title.akas.tsv.gz\n",
            "2021-08-25 18:03:09,959 GET https://datasets.imdbws.com/title.principals.tsv.gz -> downloads/title.principals.tsv.gz\n",
            "2021-08-25 18:03:13,186 GET https://datasets.imdbws.com/title.episode.tsv.gz -> downloads/title.episode.tsv.gz\n",
            "2021-08-25 18:03:14,217 GET https://datasets.imdbws.com/title.ratings.tsv.gz -> downloads/title.ratings.tsv.gz\n",
            "2021-08-25 18:03:14,445 Populating database: imdb.db\n",
            "2021-08-25 18:03:14,445 Applying schema\n",
            "2021-08-25 18:03:14,447 Importing file: downloads/name.basics.tsv.gz\n",
            "2021-08-25 18:03:14,447 Reading number of rows ...\n",
            "2021-08-25 18:03:20,087 Inserting rows into table: people\n",
            "100% 11175593/11175593 [01:59<00:00, 93135.87 rows/s]\n",
            "2021-08-25 18:05:20,093 Importing file: downloads/title.basics.tsv.gz\n",
            "2021-08-25 18:05:20,093 Reading number of rows ...\n",
            "2021-08-25 18:05:24,524 Inserting rows into table: titles\n",
            "100% 8203690/8203690 [01:48<00:00, 75394.35 rows/s]\n",
            "2021-08-25 18:07:13,337 Importing file: downloads/title.akas.tsv.gz\n",
            "2021-08-25 18:07:13,338 Reading number of rows ...\n",
            "2021-08-25 18:07:21,308 Inserting rows into table: akas\n",
            "100% 28839585/28839585 [05:18<00:00, 90530.62 rows/s]\n",
            "2021-08-25 18:12:39,873 Importing file: downloads/title.principals.tsv.gz\n",
            "2021-08-25 18:12:39,873 Reading number of rows ...\n",
            "2021-08-25 18:12:52,033 Inserting rows into table: crew\n",
            "100% 46425835/46425835 [06:51<00:00, 112687.28 rows/s]\n",
            "2021-08-25 18:19:44,025 Importing file: downloads/title.episode.tsv.gz\n",
            "2021-08-25 18:19:44,025 Reading number of rows ...\n",
            "2021-08-25 18:19:45,072 Inserting rows into table: episodes\n",
            "100% 6014726/6014726 [00:40<00:00, 147351.09 rows/s]\n",
            "2021-08-25 18:20:25,895 Importing file: downloads/title.ratings.tsv.gz\n",
            "2021-08-25 18:20:25,895 Reading number of rows ...\n",
            "2021-08-25 18:20:26,096 Inserting rows into table: ratings\n",
            "100% 1180469/1180469 [00:08<00:00, 141067.07 rows/s]\n",
            "2021-08-25 18:20:34,467 Creating table indices ...\n",
            "2021-08-25 18:25:20,651 Import successful\n",
            "CPU times: user 18.3 s, sys: 2.37 s, total: 20.7 s\n",
            "Wall time: 22min 19s\n"
          ],
          "name": "stdout"
        }
      ]
    },
    {
      "cell_type": "code",
      "metadata": {
        "id": "rMFHXeFXm5AM"
      },
      "source": [
        "# Conectando ao banco de dados\n",
        "conn = sqlite3.connect(\"imdb.db\")"
      ],
      "execution_count": null,
      "outputs": []
    },
    {
      "cell_type": "code",
      "metadata": {
        "id": "mCpkt2_Sm8Jr"
      },
      "source": [
        "# Extraindo lista de tabelas\n",
        "tabelas = pd.read_sql_query(\"SELECT NAME AS 'Table_Name' FROM sqlite_master WHERE type = 'table' \", conn)"
      ],
      "execution_count": null,
      "outputs": []
    },
    {
      "cell_type": "code",
      "metadata": {
        "colab": {
          "base_uri": "https://localhost:8080/"
        },
        "id": "cvvMOcQDm-7z",
        "outputId": "37f8244a-f25c-471b-d993-2bdf910a52c1"
      },
      "source": [
        "# Conferindo Tipo do Objeto\n",
        "type(tabelas)"
      ],
      "execution_count": null,
      "outputs": [
        {
          "output_type": "execute_result",
          "data": {
            "text/plain": [
              "pandas.core.frame.DataFrame"
            ]
          },
          "metadata": {},
          "execution_count": 10
        }
      ]
    },
    {
      "cell_type": "code",
      "metadata": {
        "colab": {
          "base_uri": "https://localhost:8080/",
          "height": 204
        },
        "id": "MvZw-AaGnD8v",
        "outputId": "867ece10-2f44-4de8-ab84-0136fed83152"
      },
      "source": [
        "# Visualizando o resultado\n",
        "tabelas.head()"
      ],
      "execution_count": null,
      "outputs": [
        {
          "output_type": "execute_result",
          "data": {
            "text/html": [
              "<div>\n",
              "<style scoped>\n",
              "    .dataframe tbody tr th:only-of-type {\n",
              "        vertical-align: middle;\n",
              "    }\n",
              "\n",
              "    .dataframe tbody tr th {\n",
              "        vertical-align: top;\n",
              "    }\n",
              "\n",
              "    .dataframe thead th {\n",
              "        text-align: right;\n",
              "    }\n",
              "</style>\n",
              "<table border=\"1\" class=\"dataframe\">\n",
              "  <thead>\n",
              "    <tr style=\"text-align: right;\">\n",
              "      <th></th>\n",
              "      <th>Table_Name</th>\n",
              "    </tr>\n",
              "  </thead>\n",
              "  <tbody>\n",
              "    <tr>\n",
              "      <th>0</th>\n",
              "      <td>people</td>\n",
              "    </tr>\n",
              "    <tr>\n",
              "      <th>1</th>\n",
              "      <td>titles</td>\n",
              "    </tr>\n",
              "    <tr>\n",
              "      <th>2</th>\n",
              "      <td>akas</td>\n",
              "    </tr>\n",
              "    <tr>\n",
              "      <th>3</th>\n",
              "      <td>crew</td>\n",
              "    </tr>\n",
              "    <tr>\n",
              "      <th>4</th>\n",
              "      <td>episodes</td>\n",
              "    </tr>\n",
              "  </tbody>\n",
              "</table>\n",
              "</div>"
            ],
            "text/plain": [
              "  Table_Name\n",
              "0     people\n",
              "1     titles\n",
              "2       akas\n",
              "3       crew\n",
              "4   episodes"
            ]
          },
          "metadata": {},
          "execution_count": 11
        }
      ]
    },
    {
      "cell_type": "markdown",
      "metadata": {
        "id": "WGfo3h1unMMM"
      },
      "source": [
        "# Análise Exploratória dos Dados"
      ]
    },
    {
      "cell_type": "code",
      "metadata": {
        "id": "pPBIkFzZnNnE"
      },
      "source": [
        "# Convertendo dataframe em lista\n",
        "tabelas = tabelas[\"Table_Name\"].values.tolist()"
      ],
      "execution_count": null,
      "outputs": []
    },
    {
      "cell_type": "code",
      "metadata": {
        "colab": {
          "base_uri": "https://localhost:8080/",
          "height": 1000
        },
        "id": "wDLC4RrWnQ1c",
        "outputId": "6ea576fe-4d80-4e71-84e2-2135bc88932a"
      },
      "source": [
        "# Percorrendo a lista de tabelas no banco de dados e extraindo o esquema de cada uma \n",
        "\n",
        "for tabela in tabelas:\n",
        "  consulta = \"PRAGMA TABLE_INFO({})\".format(tabela) # fazendo consulta\n",
        "  resultado = pd.read_sql_query(consulta, conn)     # buscando resultado \n",
        "  print(\"Esquema da tabela:\", tabela)               # imprimindo o nome da tabela\n",
        "  display(resultado)                                # imprimindo o resultado\n",
        "  print(\"-\"*100)\n",
        "  print(\"\\n\")"
      ],
      "execution_count": null,
      "outputs": [
        {
          "output_type": "stream",
          "text": [
            "Esquema da tabela: people\n"
          ],
          "name": "stdout"
        },
        {
          "output_type": "display_data",
          "data": {
            "text/html": [
              "<div>\n",
              "<style scoped>\n",
              "    .dataframe tbody tr th:only-of-type {\n",
              "        vertical-align: middle;\n",
              "    }\n",
              "\n",
              "    .dataframe tbody tr th {\n",
              "        vertical-align: top;\n",
              "    }\n",
              "\n",
              "    .dataframe thead th {\n",
              "        text-align: right;\n",
              "    }\n",
              "</style>\n",
              "<table border=\"1\" class=\"dataframe\">\n",
              "  <thead>\n",
              "    <tr style=\"text-align: right;\">\n",
              "      <th></th>\n",
              "      <th>cid</th>\n",
              "      <th>name</th>\n",
              "      <th>type</th>\n",
              "      <th>notnull</th>\n",
              "      <th>dflt_value</th>\n",
              "      <th>pk</th>\n",
              "    </tr>\n",
              "  </thead>\n",
              "  <tbody>\n",
              "    <tr>\n",
              "      <th>0</th>\n",
              "      <td>0</td>\n",
              "      <td>person_id</td>\n",
              "      <td>VARCHAR</td>\n",
              "      <td>0</td>\n",
              "      <td>None</td>\n",
              "      <td>1</td>\n",
              "    </tr>\n",
              "    <tr>\n",
              "      <th>1</th>\n",
              "      <td>1</td>\n",
              "      <td>name</td>\n",
              "      <td>VARCHAR</td>\n",
              "      <td>0</td>\n",
              "      <td>None</td>\n",
              "      <td>0</td>\n",
              "    </tr>\n",
              "    <tr>\n",
              "      <th>2</th>\n",
              "      <td>2</td>\n",
              "      <td>born</td>\n",
              "      <td>INTEGER</td>\n",
              "      <td>0</td>\n",
              "      <td>None</td>\n",
              "      <td>0</td>\n",
              "    </tr>\n",
              "    <tr>\n",
              "      <th>3</th>\n",
              "      <td>3</td>\n",
              "      <td>died</td>\n",
              "      <td>INTEGER</td>\n",
              "      <td>0</td>\n",
              "      <td>None</td>\n",
              "      <td>0</td>\n",
              "    </tr>\n",
              "  </tbody>\n",
              "</table>\n",
              "</div>"
            ],
            "text/plain": [
              "   cid       name     type  notnull dflt_value  pk\n",
              "0    0  person_id  VARCHAR        0       None   1\n",
              "1    1       name  VARCHAR        0       None   0\n",
              "2    2       born  INTEGER        0       None   0\n",
              "3    3       died  INTEGER        0       None   0"
            ]
          },
          "metadata": {}
        },
        {
          "output_type": "stream",
          "text": [
            "----------------------------------------------------------------------------------------------------\n",
            "\n",
            "\n",
            "Esquema da tabela: titles\n"
          ],
          "name": "stdout"
        },
        {
          "output_type": "display_data",
          "data": {
            "text/html": [
              "<div>\n",
              "<style scoped>\n",
              "    .dataframe tbody tr th:only-of-type {\n",
              "        vertical-align: middle;\n",
              "    }\n",
              "\n",
              "    .dataframe tbody tr th {\n",
              "        vertical-align: top;\n",
              "    }\n",
              "\n",
              "    .dataframe thead th {\n",
              "        text-align: right;\n",
              "    }\n",
              "</style>\n",
              "<table border=\"1\" class=\"dataframe\">\n",
              "  <thead>\n",
              "    <tr style=\"text-align: right;\">\n",
              "      <th></th>\n",
              "      <th>cid</th>\n",
              "      <th>name</th>\n",
              "      <th>type</th>\n",
              "      <th>notnull</th>\n",
              "      <th>dflt_value</th>\n",
              "      <th>pk</th>\n",
              "    </tr>\n",
              "  </thead>\n",
              "  <tbody>\n",
              "    <tr>\n",
              "      <th>0</th>\n",
              "      <td>0</td>\n",
              "      <td>title_id</td>\n",
              "      <td>VARCHAR</td>\n",
              "      <td>0</td>\n",
              "      <td>None</td>\n",
              "      <td>1</td>\n",
              "    </tr>\n",
              "    <tr>\n",
              "      <th>1</th>\n",
              "      <td>1</td>\n",
              "      <td>type</td>\n",
              "      <td>VARCHAR</td>\n",
              "      <td>0</td>\n",
              "      <td>None</td>\n",
              "      <td>0</td>\n",
              "    </tr>\n",
              "    <tr>\n",
              "      <th>2</th>\n",
              "      <td>2</td>\n",
              "      <td>primary_title</td>\n",
              "      <td>VARCHAR</td>\n",
              "      <td>0</td>\n",
              "      <td>None</td>\n",
              "      <td>0</td>\n",
              "    </tr>\n",
              "    <tr>\n",
              "      <th>3</th>\n",
              "      <td>3</td>\n",
              "      <td>original_title</td>\n",
              "      <td>VARCHAR</td>\n",
              "      <td>0</td>\n",
              "      <td>None</td>\n",
              "      <td>0</td>\n",
              "    </tr>\n",
              "    <tr>\n",
              "      <th>4</th>\n",
              "      <td>4</td>\n",
              "      <td>is_adult</td>\n",
              "      <td>INTEGER</td>\n",
              "      <td>0</td>\n",
              "      <td>None</td>\n",
              "      <td>0</td>\n",
              "    </tr>\n",
              "    <tr>\n",
              "      <th>5</th>\n",
              "      <td>5</td>\n",
              "      <td>premiered</td>\n",
              "      <td>INTEGER</td>\n",
              "      <td>0</td>\n",
              "      <td>None</td>\n",
              "      <td>0</td>\n",
              "    </tr>\n",
              "    <tr>\n",
              "      <th>6</th>\n",
              "      <td>6</td>\n",
              "      <td>ended</td>\n",
              "      <td>INTEGER</td>\n",
              "      <td>0</td>\n",
              "      <td>None</td>\n",
              "      <td>0</td>\n",
              "    </tr>\n",
              "    <tr>\n",
              "      <th>7</th>\n",
              "      <td>7</td>\n",
              "      <td>runtime_minutes</td>\n",
              "      <td>INTEGER</td>\n",
              "      <td>0</td>\n",
              "      <td>None</td>\n",
              "      <td>0</td>\n",
              "    </tr>\n",
              "    <tr>\n",
              "      <th>8</th>\n",
              "      <td>8</td>\n",
              "      <td>genres</td>\n",
              "      <td>VARCHAR</td>\n",
              "      <td>0</td>\n",
              "      <td>None</td>\n",
              "      <td>0</td>\n",
              "    </tr>\n",
              "  </tbody>\n",
              "</table>\n",
              "</div>"
            ],
            "text/plain": [
              "   cid             name     type  notnull dflt_value  pk\n",
              "0    0         title_id  VARCHAR        0       None   1\n",
              "1    1             type  VARCHAR        0       None   0\n",
              "2    2    primary_title  VARCHAR        0       None   0\n",
              "3    3   original_title  VARCHAR        0       None   0\n",
              "4    4         is_adult  INTEGER        0       None   0\n",
              "5    5        premiered  INTEGER        0       None   0\n",
              "6    6            ended  INTEGER        0       None   0\n",
              "7    7  runtime_minutes  INTEGER        0       None   0\n",
              "8    8           genres  VARCHAR        0       None   0"
            ]
          },
          "metadata": {}
        },
        {
          "output_type": "stream",
          "text": [
            "----------------------------------------------------------------------------------------------------\n",
            "\n",
            "\n",
            "Esquema da tabela: akas\n"
          ],
          "name": "stdout"
        },
        {
          "output_type": "display_data",
          "data": {
            "text/html": [
              "<div>\n",
              "<style scoped>\n",
              "    .dataframe tbody tr th:only-of-type {\n",
              "        vertical-align: middle;\n",
              "    }\n",
              "\n",
              "    .dataframe tbody tr th {\n",
              "        vertical-align: top;\n",
              "    }\n",
              "\n",
              "    .dataframe thead th {\n",
              "        text-align: right;\n",
              "    }\n",
              "</style>\n",
              "<table border=\"1\" class=\"dataframe\">\n",
              "  <thead>\n",
              "    <tr style=\"text-align: right;\">\n",
              "      <th></th>\n",
              "      <th>cid</th>\n",
              "      <th>name</th>\n",
              "      <th>type</th>\n",
              "      <th>notnull</th>\n",
              "      <th>dflt_value</th>\n",
              "      <th>pk</th>\n",
              "    </tr>\n",
              "  </thead>\n",
              "  <tbody>\n",
              "    <tr>\n",
              "      <th>0</th>\n",
              "      <td>0</td>\n",
              "      <td>title_id</td>\n",
              "      <td>VARCHAR</td>\n",
              "      <td>0</td>\n",
              "      <td>None</td>\n",
              "      <td>0</td>\n",
              "    </tr>\n",
              "    <tr>\n",
              "      <th>1</th>\n",
              "      <td>1</td>\n",
              "      <td>title</td>\n",
              "      <td>VARCHAR</td>\n",
              "      <td>0</td>\n",
              "      <td>None</td>\n",
              "      <td>0</td>\n",
              "    </tr>\n",
              "    <tr>\n",
              "      <th>2</th>\n",
              "      <td>2</td>\n",
              "      <td>region</td>\n",
              "      <td>VARCHAR</td>\n",
              "      <td>0</td>\n",
              "      <td>None</td>\n",
              "      <td>0</td>\n",
              "    </tr>\n",
              "    <tr>\n",
              "      <th>3</th>\n",
              "      <td>3</td>\n",
              "      <td>language</td>\n",
              "      <td>VARCHAR</td>\n",
              "      <td>0</td>\n",
              "      <td>None</td>\n",
              "      <td>0</td>\n",
              "    </tr>\n",
              "    <tr>\n",
              "      <th>4</th>\n",
              "      <td>4</td>\n",
              "      <td>types</td>\n",
              "      <td>VARCHAR</td>\n",
              "      <td>0</td>\n",
              "      <td>None</td>\n",
              "      <td>0</td>\n",
              "    </tr>\n",
              "    <tr>\n",
              "      <th>5</th>\n",
              "      <td>5</td>\n",
              "      <td>attributes</td>\n",
              "      <td>VARCHAR</td>\n",
              "      <td>0</td>\n",
              "      <td>None</td>\n",
              "      <td>0</td>\n",
              "    </tr>\n",
              "    <tr>\n",
              "      <th>6</th>\n",
              "      <td>6</td>\n",
              "      <td>is_original_title</td>\n",
              "      <td>INTEGER</td>\n",
              "      <td>0</td>\n",
              "      <td>None</td>\n",
              "      <td>0</td>\n",
              "    </tr>\n",
              "  </tbody>\n",
              "</table>\n",
              "</div>"
            ],
            "text/plain": [
              "   cid               name     type  notnull dflt_value  pk\n",
              "0    0           title_id  VARCHAR        0       None   0\n",
              "1    1              title  VARCHAR        0       None   0\n",
              "2    2             region  VARCHAR        0       None   0\n",
              "3    3           language  VARCHAR        0       None   0\n",
              "4    4              types  VARCHAR        0       None   0\n",
              "5    5         attributes  VARCHAR        0       None   0\n",
              "6    6  is_original_title  INTEGER        0       None   0"
            ]
          },
          "metadata": {}
        },
        {
          "output_type": "stream",
          "text": [
            "----------------------------------------------------------------------------------------------------\n",
            "\n",
            "\n",
            "Esquema da tabela: crew\n"
          ],
          "name": "stdout"
        },
        {
          "output_type": "display_data",
          "data": {
            "text/html": [
              "<div>\n",
              "<style scoped>\n",
              "    .dataframe tbody tr th:only-of-type {\n",
              "        vertical-align: middle;\n",
              "    }\n",
              "\n",
              "    .dataframe tbody tr th {\n",
              "        vertical-align: top;\n",
              "    }\n",
              "\n",
              "    .dataframe thead th {\n",
              "        text-align: right;\n",
              "    }\n",
              "</style>\n",
              "<table border=\"1\" class=\"dataframe\">\n",
              "  <thead>\n",
              "    <tr style=\"text-align: right;\">\n",
              "      <th></th>\n",
              "      <th>cid</th>\n",
              "      <th>name</th>\n",
              "      <th>type</th>\n",
              "      <th>notnull</th>\n",
              "      <th>dflt_value</th>\n",
              "      <th>pk</th>\n",
              "    </tr>\n",
              "  </thead>\n",
              "  <tbody>\n",
              "    <tr>\n",
              "      <th>0</th>\n",
              "      <td>0</td>\n",
              "      <td>title_id</td>\n",
              "      <td>VARCHAR</td>\n",
              "      <td>0</td>\n",
              "      <td>None</td>\n",
              "      <td>0</td>\n",
              "    </tr>\n",
              "    <tr>\n",
              "      <th>1</th>\n",
              "      <td>1</td>\n",
              "      <td>person_id</td>\n",
              "      <td>VARCHAR</td>\n",
              "      <td>0</td>\n",
              "      <td>None</td>\n",
              "      <td>0</td>\n",
              "    </tr>\n",
              "    <tr>\n",
              "      <th>2</th>\n",
              "      <td>2</td>\n",
              "      <td>category</td>\n",
              "      <td>VARCHAR</td>\n",
              "      <td>0</td>\n",
              "      <td>None</td>\n",
              "      <td>0</td>\n",
              "    </tr>\n",
              "    <tr>\n",
              "      <th>3</th>\n",
              "      <td>3</td>\n",
              "      <td>job</td>\n",
              "      <td>VARCHAR</td>\n",
              "      <td>0</td>\n",
              "      <td>None</td>\n",
              "      <td>0</td>\n",
              "    </tr>\n",
              "    <tr>\n",
              "      <th>4</th>\n",
              "      <td>4</td>\n",
              "      <td>characters</td>\n",
              "      <td>VARCHAR</td>\n",
              "      <td>0</td>\n",
              "      <td>None</td>\n",
              "      <td>0</td>\n",
              "    </tr>\n",
              "  </tbody>\n",
              "</table>\n",
              "</div>"
            ],
            "text/plain": [
              "   cid        name     type  notnull dflt_value  pk\n",
              "0    0    title_id  VARCHAR        0       None   0\n",
              "1    1   person_id  VARCHAR        0       None   0\n",
              "2    2    category  VARCHAR        0       None   0\n",
              "3    3         job  VARCHAR        0       None   0\n",
              "4    4  characters  VARCHAR        0       None   0"
            ]
          },
          "metadata": {}
        },
        {
          "output_type": "stream",
          "text": [
            "----------------------------------------------------------------------------------------------------\n",
            "\n",
            "\n",
            "Esquema da tabela: episodes\n"
          ],
          "name": "stdout"
        },
        {
          "output_type": "display_data",
          "data": {
            "text/html": [
              "<div>\n",
              "<style scoped>\n",
              "    .dataframe tbody tr th:only-of-type {\n",
              "        vertical-align: middle;\n",
              "    }\n",
              "\n",
              "    .dataframe tbody tr th {\n",
              "        vertical-align: top;\n",
              "    }\n",
              "\n",
              "    .dataframe thead th {\n",
              "        text-align: right;\n",
              "    }\n",
              "</style>\n",
              "<table border=\"1\" class=\"dataframe\">\n",
              "  <thead>\n",
              "    <tr style=\"text-align: right;\">\n",
              "      <th></th>\n",
              "      <th>cid</th>\n",
              "      <th>name</th>\n",
              "      <th>type</th>\n",
              "      <th>notnull</th>\n",
              "      <th>dflt_value</th>\n",
              "      <th>pk</th>\n",
              "    </tr>\n",
              "  </thead>\n",
              "  <tbody>\n",
              "    <tr>\n",
              "      <th>0</th>\n",
              "      <td>0</td>\n",
              "      <td>episode_title_id</td>\n",
              "      <td>INTEGER</td>\n",
              "      <td>0</td>\n",
              "      <td>None</td>\n",
              "      <td>0</td>\n",
              "    </tr>\n",
              "    <tr>\n",
              "      <th>1</th>\n",
              "      <td>1</td>\n",
              "      <td>show_title_id</td>\n",
              "      <td>INTEGER</td>\n",
              "      <td>0</td>\n",
              "      <td>None</td>\n",
              "      <td>0</td>\n",
              "    </tr>\n",
              "    <tr>\n",
              "      <th>2</th>\n",
              "      <td>2</td>\n",
              "      <td>season_number</td>\n",
              "      <td>INTEGER</td>\n",
              "      <td>0</td>\n",
              "      <td>None</td>\n",
              "      <td>0</td>\n",
              "    </tr>\n",
              "    <tr>\n",
              "      <th>3</th>\n",
              "      <td>3</td>\n",
              "      <td>eposide_number</td>\n",
              "      <td>INTEGER</td>\n",
              "      <td>0</td>\n",
              "      <td>None</td>\n",
              "      <td>0</td>\n",
              "    </tr>\n",
              "  </tbody>\n",
              "</table>\n",
              "</div>"
            ],
            "text/plain": [
              "   cid              name     type  notnull dflt_value  pk\n",
              "0    0  episode_title_id  INTEGER        0       None   0\n",
              "1    1     show_title_id  INTEGER        0       None   0\n",
              "2    2     season_number  INTEGER        0       None   0\n",
              "3    3    eposide_number  INTEGER        0       None   0"
            ]
          },
          "metadata": {}
        },
        {
          "output_type": "stream",
          "text": [
            "----------------------------------------------------------------------------------------------------\n",
            "\n",
            "\n",
            "Esquema da tabela: ratings\n"
          ],
          "name": "stdout"
        },
        {
          "output_type": "display_data",
          "data": {
            "text/html": [
              "<div>\n",
              "<style scoped>\n",
              "    .dataframe tbody tr th:only-of-type {\n",
              "        vertical-align: middle;\n",
              "    }\n",
              "\n",
              "    .dataframe tbody tr th {\n",
              "        vertical-align: top;\n",
              "    }\n",
              "\n",
              "    .dataframe thead th {\n",
              "        text-align: right;\n",
              "    }\n",
              "</style>\n",
              "<table border=\"1\" class=\"dataframe\">\n",
              "  <thead>\n",
              "    <tr style=\"text-align: right;\">\n",
              "      <th></th>\n",
              "      <th>cid</th>\n",
              "      <th>name</th>\n",
              "      <th>type</th>\n",
              "      <th>notnull</th>\n",
              "      <th>dflt_value</th>\n",
              "      <th>pk</th>\n",
              "    </tr>\n",
              "  </thead>\n",
              "  <tbody>\n",
              "    <tr>\n",
              "      <th>0</th>\n",
              "      <td>0</td>\n",
              "      <td>title_id</td>\n",
              "      <td>VARCHAR</td>\n",
              "      <td>0</td>\n",
              "      <td>None</td>\n",
              "      <td>1</td>\n",
              "    </tr>\n",
              "    <tr>\n",
              "      <th>1</th>\n",
              "      <td>1</td>\n",
              "      <td>rating</td>\n",
              "      <td>INTEGER</td>\n",
              "      <td>0</td>\n",
              "      <td>None</td>\n",
              "      <td>0</td>\n",
              "    </tr>\n",
              "    <tr>\n",
              "      <th>2</th>\n",
              "      <td>2</td>\n",
              "      <td>votes</td>\n",
              "      <td>INTEGER</td>\n",
              "      <td>0</td>\n",
              "      <td>None</td>\n",
              "      <td>0</td>\n",
              "    </tr>\n",
              "  </tbody>\n",
              "</table>\n",
              "</div>"
            ],
            "text/plain": [
              "   cid      name     type  notnull dflt_value  pk\n",
              "0    0  title_id  VARCHAR        0       None   1\n",
              "1    1    rating  INTEGER        0       None   0\n",
              "2    2     votes  INTEGER        0       None   0"
            ]
          },
          "metadata": {}
        },
        {
          "output_type": "stream",
          "text": [
            "----------------------------------------------------------------------------------------------------\n",
            "\n",
            "\n"
          ],
          "name": "stdout"
        }
      ]
    },
    {
      "cell_type": "markdown",
      "metadata": {
        "id": "MXbEh5hrnYPw"
      },
      "source": [
        "#**1 - Quais são as categorias de Filmes mais comuns no IMDB ?**\n",
        "Quais são os principais tipos (categorias) de títulos (filmes)?"
      ]
    },
    {
      "cell_type": "code",
      "metadata": {
        "id": "TzflHlsjnZlu"
      },
      "source": [
        "# Criando a consulta SQL \n",
        "consulta1 = '''SELECT type, COUNT(*) AS COUNT FROM titles GROUP BY type'''"
      ],
      "execution_count": null,
      "outputs": []
    },
    {
      "cell_type": "code",
      "metadata": {
        "id": "Mqa6vEfSndAF"
      },
      "source": [
        "# Extraindo resultado\n",
        "resultado1 = pd.read_sql_query(consulta1, conn)"
      ],
      "execution_count": null,
      "outputs": []
    },
    {
      "cell_type": "code",
      "metadata": {
        "colab": {
          "base_uri": "https://localhost:8080/",
          "height": 452
        },
        "id": "Pt-zXDJknlWN",
        "outputId": "4c72615b-c382-462c-cc11-b0cbe30e6635"
      },
      "source": [
        "# Visualizando o resultado\n",
        "display(resultado1)"
      ],
      "execution_count": null,
      "outputs": [
        {
          "output_type": "display_data",
          "data": {
            "text/html": [
              "<div>\n",
              "<style scoped>\n",
              "    .dataframe tbody tr th:only-of-type {\n",
              "        vertical-align: middle;\n",
              "    }\n",
              "\n",
              "    .dataframe tbody tr th {\n",
              "        vertical-align: top;\n",
              "    }\n",
              "\n",
              "    .dataframe thead th {\n",
              "        text-align: right;\n",
              "    }\n",
              "</style>\n",
              "<table border=\"1\" class=\"dataframe\">\n",
              "  <thead>\n",
              "    <tr style=\"text-align: right;\">\n",
              "      <th></th>\n",
              "      <th>type</th>\n",
              "      <th>COUNT</th>\n",
              "    </tr>\n",
              "  </thead>\n",
              "  <tbody>\n",
              "    <tr>\n",
              "      <th>0</th>\n",
              "      <td>movie</td>\n",
              "      <td>585950</td>\n",
              "    </tr>\n",
              "    <tr>\n",
              "      <th>1</th>\n",
              "      <td>radioEpisode</td>\n",
              "      <td>1</td>\n",
              "    </tr>\n",
              "    <tr>\n",
              "      <th>2</th>\n",
              "      <td>radioSeries</td>\n",
              "      <td>1</td>\n",
              "    </tr>\n",
              "    <tr>\n",
              "      <th>3</th>\n",
              "      <td>short</td>\n",
              "      <td>827595</td>\n",
              "    </tr>\n",
              "    <tr>\n",
              "      <th>4</th>\n",
              "      <td>tvEpisode</td>\n",
              "      <td>6012696</td>\n",
              "    </tr>\n",
              "    <tr>\n",
              "      <th>5</th>\n",
              "      <td>tvMiniSeries</td>\n",
              "      <td>39133</td>\n",
              "    </tr>\n",
              "    <tr>\n",
              "      <th>6</th>\n",
              "      <td>tvMovie</td>\n",
              "      <td>132690</td>\n",
              "    </tr>\n",
              "    <tr>\n",
              "      <th>7</th>\n",
              "      <td>tvPilot</td>\n",
              "      <td>1</td>\n",
              "    </tr>\n",
              "    <tr>\n",
              "      <th>8</th>\n",
              "      <td>tvSeries</td>\n",
              "      <td>213405</td>\n",
              "    </tr>\n",
              "    <tr>\n",
              "      <th>9</th>\n",
              "      <td>tvShort</td>\n",
              "      <td>10236</td>\n",
              "    </tr>\n",
              "    <tr>\n",
              "      <th>10</th>\n",
              "      <td>tvSpecial</td>\n",
              "      <td>33896</td>\n",
              "    </tr>\n",
              "    <tr>\n",
              "      <th>11</th>\n",
              "      <td>video</td>\n",
              "      <td>319124</td>\n",
              "    </tr>\n",
              "    <tr>\n",
              "      <th>12</th>\n",
              "      <td>videoGame</td>\n",
              "      <td>28962</td>\n",
              "    </tr>\n",
              "  </tbody>\n",
              "</table>\n",
              "</div>"
            ],
            "text/plain": [
              "            type    COUNT\n",
              "0          movie   585950\n",
              "1   radioEpisode        1\n",
              "2    radioSeries        1\n",
              "3          short   827595\n",
              "4      tvEpisode  6012696\n",
              "5   tvMiniSeries    39133\n",
              "6        tvMovie   132690\n",
              "7        tvPilot        1\n",
              "8       tvSeries   213405\n",
              "9        tvShort    10236\n",
              "10     tvSpecial    33896\n",
              "11         video   319124\n",
              "12     videoGame    28962"
            ]
          },
          "metadata": {}
        }
      ]
    },
    {
      "cell_type": "code",
      "metadata": {
        "id": "htvaCxrlnnJM"
      },
      "source": [
        "# Calculando o percentual para cada tipo \n",
        "resultado1['percentual'] = (resultado1['COUNT']/resultado1['COUNT'].sum())*100"
      ],
      "execution_count": null,
      "outputs": []
    },
    {
      "cell_type": "code",
      "metadata": {
        "colab": {
          "base_uri": "https://localhost:8080/",
          "height": 452
        },
        "id": "DJLlPdovnpbe",
        "outputId": "e2b0dea2-5e63-48f9-b954-8c7b17cb9b2a"
      },
      "source": [
        "# Visualizando o resultado\n",
        "display(resultado1)"
      ],
      "execution_count": null,
      "outputs": [
        {
          "output_type": "display_data",
          "data": {
            "text/html": [
              "<div>\n",
              "<style scoped>\n",
              "    .dataframe tbody tr th:only-of-type {\n",
              "        vertical-align: middle;\n",
              "    }\n",
              "\n",
              "    .dataframe tbody tr th {\n",
              "        vertical-align: top;\n",
              "    }\n",
              "\n",
              "    .dataframe thead th {\n",
              "        text-align: right;\n",
              "    }\n",
              "</style>\n",
              "<table border=\"1\" class=\"dataframe\">\n",
              "  <thead>\n",
              "    <tr style=\"text-align: right;\">\n",
              "      <th></th>\n",
              "      <th>type</th>\n",
              "      <th>COUNT</th>\n",
              "      <th>percentual</th>\n",
              "    </tr>\n",
              "  </thead>\n",
              "  <tbody>\n",
              "    <tr>\n",
              "      <th>0</th>\n",
              "      <td>movie</td>\n",
              "      <td>585950</td>\n",
              "      <td>7.142518</td>\n",
              "    </tr>\n",
              "    <tr>\n",
              "      <th>1</th>\n",
              "      <td>radioEpisode</td>\n",
              "      <td>1</td>\n",
              "      <td>0.000012</td>\n",
              "    </tr>\n",
              "    <tr>\n",
              "      <th>2</th>\n",
              "      <td>radioSeries</td>\n",
              "      <td>1</td>\n",
              "      <td>0.000012</td>\n",
              "    </tr>\n",
              "    <tr>\n",
              "      <th>3</th>\n",
              "      <td>short</td>\n",
              "      <td>827595</td>\n",
              "      <td>10.088082</td>\n",
              "    </tr>\n",
              "    <tr>\n",
              "      <th>4</th>\n",
              "      <td>tvEpisode</td>\n",
              "      <td>6012696</td>\n",
              "      <td>73.292579</td>\n",
              "    </tr>\n",
              "    <tr>\n",
              "      <th>5</th>\n",
              "      <td>tvMiniSeries</td>\n",
              "      <td>39133</td>\n",
              "      <td>0.477017</td>\n",
              "    </tr>\n",
              "    <tr>\n",
              "      <th>6</th>\n",
              "      <td>tvMovie</td>\n",
              "      <td>132690</td>\n",
              "      <td>1.617443</td>\n",
              "    </tr>\n",
              "    <tr>\n",
              "      <th>7</th>\n",
              "      <td>tvPilot</td>\n",
              "      <td>1</td>\n",
              "      <td>0.000012</td>\n",
              "    </tr>\n",
              "    <tr>\n",
              "      <th>8</th>\n",
              "      <td>tvSeries</td>\n",
              "      <td>213405</td>\n",
              "      <td>2.601329</td>\n",
              "    </tr>\n",
              "    <tr>\n",
              "      <th>9</th>\n",
              "      <td>tvShort</td>\n",
              "      <td>10236</td>\n",
              "      <td>0.124773</td>\n",
              "    </tr>\n",
              "    <tr>\n",
              "      <th>10</th>\n",
              "      <td>tvSpecial</td>\n",
              "      <td>33896</td>\n",
              "      <td>0.413180</td>\n",
              "    </tr>\n",
              "    <tr>\n",
              "      <th>11</th>\n",
              "      <td>video</td>\n",
              "      <td>319124</td>\n",
              "      <td>3.890006</td>\n",
              "    </tr>\n",
              "    <tr>\n",
              "      <th>12</th>\n",
              "      <td>videoGame</td>\n",
              "      <td>28962</td>\n",
              "      <td>0.353036</td>\n",
              "    </tr>\n",
              "  </tbody>\n",
              "</table>\n",
              "</div>"
            ],
            "text/plain": [
              "            type    COUNT  percentual\n",
              "0          movie   585950    7.142518\n",
              "1   radioEpisode        1    0.000012\n",
              "2    radioSeries        1    0.000012\n",
              "3          short   827595   10.088082\n",
              "4      tvEpisode  6012696   73.292579\n",
              "5   tvMiniSeries    39133    0.477017\n",
              "6        tvMovie   132690    1.617443\n",
              "7        tvPilot        1    0.000012\n",
              "8       tvSeries   213405    2.601329\n",
              "9        tvShort    10236    0.124773\n",
              "10     tvSpecial    33896    0.413180\n",
              "11         video   319124    3.890006\n",
              "12     videoGame    28962    0.353036"
            ]
          },
          "metadata": {}
        }
      ]
    },
    {
      "cell_type": "code",
      "metadata": {
        "id": "-44cqgymnsB0"
      },
      "source": [
        "# Criando um gráfico com 4 categorias\n",
        "# Sendo, 3 categorias com mais títulos e 1 com as restantes\n",
        "\n",
        "# Criando um dicionário vazio\n",
        "others = {}\n",
        "\n",
        "# Filtrando o percentual em 5% e somando o total\n",
        "others['COUNT'] = resultado1[resultado1['percentual'] < 5 ]['COUNT'].sum()\n",
        "\n",
        "# Gravando o percentual\n",
        "others['percentual'] = resultado1[resultado1['percentual'] < 5 ]['percentual'].sum()\n",
        "\n",
        "# Ajustando o nome\n",
        "others['type'] = 'others'"
      ],
      "execution_count": null,
      "outputs": []
    },
    {
      "cell_type": "code",
      "metadata": {
        "colab": {
          "base_uri": "https://localhost:8080/"
        },
        "id": "5mF5DqTBnuw9",
        "outputId": "672488a0-d7cf-4a49-e42a-980584189959"
      },
      "source": [
        "# Visualizando\n",
        "others"
      ],
      "execution_count": null,
      "outputs": [
        {
          "output_type": "execute_result",
          "data": {
            "text/plain": [
              "{'COUNT': 777449, 'percentual': 9.476820796495236, 'type': 'others'}"
            ]
          },
          "metadata": {},
          "execution_count": 20
        }
      ]
    },
    {
      "cell_type": "code",
      "metadata": {
        "id": "N59pgvPgnxUs"
      },
      "source": [
        "# Filtrando o dataframe de resultado\n",
        "resultado1 = resultado1[resultado1['percentual'] > 5]"
      ],
      "execution_count": null,
      "outputs": []
    },
    {
      "cell_type": "code",
      "metadata": {
        "id": "cCcpk4Ybn0BX"
      },
      "source": [
        "# Append com dataframe de outras categorias\n",
        "resultado1 = resultado1.append(others, ignore_index = True)"
      ],
      "execution_count": null,
      "outputs": []
    },
    {
      "cell_type": "code",
      "metadata": {
        "id": "bGSHewOxn3ML"
      },
      "source": [
        "# Ordenando o resultado\n",
        "resultado1 = resultado1.sort_values(by= 'COUNT', ascending= False)"
      ],
      "execution_count": null,
      "outputs": []
    },
    {
      "cell_type": "code",
      "metadata": {
        "colab": {
          "base_uri": "https://localhost:8080/",
          "height": 173
        },
        "id": "GzUGSdZJn52z",
        "outputId": "6e555173-1e1a-4ee3-b4af-742f7fc57b75"
      },
      "source": [
        "# Visualizando\n",
        "resultado1.head()"
      ],
      "execution_count": null,
      "outputs": [
        {
          "output_type": "execute_result",
          "data": {
            "text/html": [
              "<div>\n",
              "<style scoped>\n",
              "    .dataframe tbody tr th:only-of-type {\n",
              "        vertical-align: middle;\n",
              "    }\n",
              "\n",
              "    .dataframe tbody tr th {\n",
              "        vertical-align: top;\n",
              "    }\n",
              "\n",
              "    .dataframe thead th {\n",
              "        text-align: right;\n",
              "    }\n",
              "</style>\n",
              "<table border=\"1\" class=\"dataframe\">\n",
              "  <thead>\n",
              "    <tr style=\"text-align: right;\">\n",
              "      <th></th>\n",
              "      <th>type</th>\n",
              "      <th>COUNT</th>\n",
              "      <th>percentual</th>\n",
              "    </tr>\n",
              "  </thead>\n",
              "  <tbody>\n",
              "    <tr>\n",
              "      <th>2</th>\n",
              "      <td>tvEpisode</td>\n",
              "      <td>6012696</td>\n",
              "      <td>73.292579</td>\n",
              "    </tr>\n",
              "    <tr>\n",
              "      <th>1</th>\n",
              "      <td>short</td>\n",
              "      <td>827595</td>\n",
              "      <td>10.088082</td>\n",
              "    </tr>\n",
              "    <tr>\n",
              "      <th>3</th>\n",
              "      <td>others</td>\n",
              "      <td>777449</td>\n",
              "      <td>9.476821</td>\n",
              "    </tr>\n",
              "    <tr>\n",
              "      <th>0</th>\n",
              "      <td>movie</td>\n",
              "      <td>585950</td>\n",
              "      <td>7.142518</td>\n",
              "    </tr>\n",
              "  </tbody>\n",
              "</table>\n",
              "</div>"
            ],
            "text/plain": [
              "        type    COUNT  percentual\n",
              "2  tvEpisode  6012696   73.292579\n",
              "1      short   827595   10.088082\n",
              "3     others   777449    9.476821\n",
              "0      movie   585950    7.142518"
            ]
          },
          "metadata": {},
          "execution_count": 24
        }
      ]
    },
    {
      "cell_type": "code",
      "metadata": {
        "id": "PHeBXXfTn9Mr"
      },
      "source": [
        "# Ajustando os labels\n",
        "labels = [str(resultado1['type'][i])+' '+'['+str(round(resultado1['percentual'][i],2)) + '%' +']' for i in resultado1.index]"
      ],
      "execution_count": null,
      "outputs": []
    },
    {
      "cell_type": "code",
      "metadata": {
        "colab": {
          "base_uri": "https://localhost:8080/",
          "height": 559
        },
        "id": "fH9r9A6woAdl",
        "outputId": "6cb82486-588b-496a-e9e5-453ec3b6f784"
      },
      "source": [
        "# Plot\n",
        "\n",
        "# Mapa de cores\n",
        "cs = cm.Set3(np.arange(100))\n",
        "\n",
        "# Criando a figura\n",
        "f = plt.figure()\n",
        "\n",
        "# Pie Plot\n",
        "\n",
        "plt.pie(resultado1['COUNT'], labeldistance = 1, radius = 3, colors = cs, wedgeprops = dict(width = 0.8))\n",
        "plt.legend(labels = labels, loc = 'center', prop = {'size': 12})\n",
        "plt.title(\"Distribuição de Títulos\", loc = 'Center', fontdict = {'fontsize': 20, 'fontweight': 20})\n",
        "plt.show()"
      ],
      "execution_count": null,
      "outputs": [
        {
          "output_type": "display_data",
          "data": {
            "image/png": "[encoded data removed]",
            "text/plain": [
              "<Figure size 432x288 with 1 Axes>"
            ]
          },
          "metadata": {}
        }
      ]
    },
    {
      "cell_type": "markdown",
      "metadata": {
        "id": "g5WK4-MSoEMr"
      },
      "source": [
        "#**2 - Qual o número de títulos por Gênero ?**"
      ]
    },
    {
      "cell_type": "code",
      "metadata": {
        "id": "HWTOxzwpoIHl"
      },
      "source": [
        "# Criando a consulta SQL \n",
        "consulta2 = ''' SELECT genres, COUNT(*) FROM titles WHERE type = 'movie' GROUP BY genres '''"
      ],
      "execution_count": null,
      "outputs": []
    },
    {
      "cell_type": "code",
      "metadata": {
        "id": "G_mPp6RjoLQj"
      },
      "source": [
        "# Resultado\n",
        "resultado2 = pd.read_sql_query(consulta2, conn)"
      ],
      "execution_count": null,
      "outputs": []
    },
    {
      "cell_type": "code",
      "metadata": {
        "colab": {
          "base_uri": "https://localhost:8080/",
          "height": 419
        },
        "id": "NysyxJxvoNg7",
        "outputId": "ba21aa35-91b6-43d9-85e4-4c4448254ec3"
      },
      "source": [
        "# Visualizando o resultado\n",
        "display(resultado2)"
      ],
      "execution_count": null,
      "outputs": [
        {
          "output_type": "display_data",
          "data": {
            "text/html": [
              "<div>\n",
              "<style scoped>\n",
              "    .dataframe tbody tr th:only-of-type {\n",
              "        vertical-align: middle;\n",
              "    }\n",
              "\n",
              "    .dataframe tbody tr th {\n",
              "        vertical-align: top;\n",
              "    }\n",
              "\n",
              "    .dataframe thead th {\n",
              "        text-align: right;\n",
              "    }\n",
              "</style>\n",
              "<table border=\"1\" class=\"dataframe\">\n",
              "  <thead>\n",
              "    <tr style=\"text-align: right;\">\n",
              "      <th></th>\n",
              "      <th>genres</th>\n",
              "      <th>COUNT(*)</th>\n",
              "    </tr>\n",
              "  </thead>\n",
              "  <tbody>\n",
              "    <tr>\n",
              "      <th>0</th>\n",
              "      <td>Action</td>\n",
              "      <td>13347</td>\n",
              "    </tr>\n",
              "    <tr>\n",
              "      <th>1</th>\n",
              "      <td>Action,Adult</td>\n",
              "      <td>11</td>\n",
              "    </tr>\n",
              "    <tr>\n",
              "      <th>2</th>\n",
              "      <td>Action,Adult,Adventure</td>\n",
              "      <td>1</td>\n",
              "    </tr>\n",
              "    <tr>\n",
              "      <th>3</th>\n",
              "      <td>Action,Adult,Comedy</td>\n",
              "      <td>5</td>\n",
              "    </tr>\n",
              "    <tr>\n",
              "      <th>4</th>\n",
              "      <td>Action,Adult,Crime</td>\n",
              "      <td>10</td>\n",
              "    </tr>\n",
              "    <tr>\n",
              "      <th>...</th>\n",
              "      <td>...</td>\n",
              "      <td>...</td>\n",
              "    </tr>\n",
              "    <tr>\n",
              "      <th>1441</th>\n",
              "      <td>Thriller,Western</td>\n",
              "      <td>40</td>\n",
              "    </tr>\n",
              "    <tr>\n",
              "      <th>1442</th>\n",
              "      <td>War</td>\n",
              "      <td>1253</td>\n",
              "    </tr>\n",
              "    <tr>\n",
              "      <th>1443</th>\n",
              "      <td>War,Western</td>\n",
              "      <td>9</td>\n",
              "    </tr>\n",
              "    <tr>\n",
              "      <th>1444</th>\n",
              "      <td>Western</td>\n",
              "      <td>4016</td>\n",
              "    </tr>\n",
              "    <tr>\n",
              "      <th>1445</th>\n",
              "      <td>\\N</td>\n",
              "      <td>70612</td>\n",
              "    </tr>\n",
              "  </tbody>\n",
              "</table>\n",
              "<p>1446 rows × 2 columns</p>\n",
              "</div>"
            ],
            "text/plain": [
              "                      genres  COUNT(*)\n",
              "0                     Action     13347\n",
              "1               Action,Adult        11\n",
              "2     Action,Adult,Adventure         1\n",
              "3        Action,Adult,Comedy         5\n",
              "4         Action,Adult,Crime        10\n",
              "...                      ...       ...\n",
              "1441        Thriller,Western        40\n",
              "1442                     War      1253\n",
              "1443             War,Western         9\n",
              "1444                 Western      4016\n",
              "1445                      \\N     70612\n",
              "\n",
              "[1446 rows x 2 columns]"
            ]
          },
          "metadata": {}
        }
      ]
    },
    {
      "cell_type": "code",
      "metadata": {
        "id": "0UqXVnXaoQZV"
      },
      "source": [
        "# Convertendo strings para minúsculo\n",
        "resultado2['genres'] = resultado2['genres'].str.lower().values"
      ],
      "execution_count": null,
      "outputs": []
    },
    {
      "cell_type": "code",
      "metadata": {
        "id": "hyoCQ89xoTU1"
      },
      "source": [
        "# Removendo valores ausentes (NA)\n",
        "temp = resultado2['genres'].dropna()"
      ],
      "execution_count": null,
      "outputs": []
    },
    {
      "cell_type": "code",
      "metadata": {
        "id": "QpnnSEStoV3_"
      },
      "source": [
        "# Criando um vetor usando expressão regular para filtrar as strings\n",
        "padrao = '(?u)\\\\b[\\\\w-]+\\\\b'\n",
        "vetor = CountVectorizer(token_pattern= padrao, analyzer = 'word').fit(temp)"
      ],
      "execution_count": null,
      "outputs": []
    },
    {
      "cell_type": "code",
      "metadata": {
        "colab": {
          "base_uri": "https://localhost:8080/"
        },
        "id": "Nsxlx1bXoYkU",
        "outputId": "ddc309a0-f55b-4994-926d-f2cca0cd2cf7"
      },
      "source": [
        "type(vetor)"
      ],
      "execution_count": null,
      "outputs": [
        {
          "output_type": "execute_result",
          "data": {
            "text/plain": [
              "sklearn.feature_extraction.text.CountVectorizer"
            ]
          },
          "metadata": {},
          "execution_count": 33
        }
      ]
    },
    {
      "cell_type": "code",
      "metadata": {
        "id": "qfVEPc_TobXU"
      },
      "source": [
        "#  Aplicando a vetorização ao dataset sem valores NA\n",
        "bag_generos = vetor.transform(temp)"
      ],
      "execution_count": null,
      "outputs": []
    },
    {
      "cell_type": "code",
      "metadata": {
        "colab": {
          "base_uri": "https://localhost:8080/"
        },
        "id": "sZixyldSodv4",
        "outputId": "d8b8a702-036f-45d4-b61d-b392e3de0a61"
      },
      "source": [
        "type(bag_generos)"
      ],
      "execution_count": null,
      "outputs": [
        {
          "output_type": "execute_result",
          "data": {
            "text/plain": [
              "scipy.sparse.csr.csr_matrix"
            ]
          },
          "metadata": {},
          "execution_count": 35
        }
      ]
    },
    {
      "cell_type": "code",
      "metadata": {
        "id": "jeZHhJZiog9M"
      },
      "source": [
        "# Retornando gêneros únicos\n",
        "generos_unicos = vetor.get_feature_names()"
      ],
      "execution_count": null,
      "outputs": []
    },
    {
      "cell_type": "code",
      "metadata": {
        "id": "TJ_NeNVKoj8c"
      },
      "source": [
        "# Criando o dataframe de gêneros\n",
        "generos = pd.DataFrame(bag_generos.todense(), columns= generos_unicos, index= temp.index)"
      ],
      "execution_count": null,
      "outputs": []
    },
    {
      "cell_type": "code",
      "metadata": {
        "colab": {
          "base_uri": "https://localhost:8080/"
        },
        "id": "-E3r2_1uomb8",
        "outputId": "afe52314-7b54-476c-a8fb-4260021bd077"
      },
      "source": [
        "# Visualizando\n",
        "generos.info()"
      ],
      "execution_count": null,
      "outputs": [
        {
          "output_type": "stream",
          "text": [
            "<class 'pandas.core.frame.DataFrame'>\n",
            "Int64Index: 1446 entries, 0 to 1445\n",
            "Data columns (total 29 columns):\n",
            " #   Column       Non-Null Count  Dtype\n",
            "---  ------       --------------  -----\n",
            " 0   action       1446 non-null   int64\n",
            " 1   adult        1446 non-null   int64\n",
            " 2   adventure    1446 non-null   int64\n",
            " 3   animation    1446 non-null   int64\n",
            " 4   biography    1446 non-null   int64\n",
            " 5   comedy       1446 non-null   int64\n",
            " 6   crime        1446 non-null   int64\n",
            " 7   documentary  1446 non-null   int64\n",
            " 8   drama        1446 non-null   int64\n",
            " 9   family       1446 non-null   int64\n",
            " 10  fantasy      1446 non-null   int64\n",
            " 11  film-noir    1446 non-null   int64\n",
            " 12  game-show    1446 non-null   int64\n",
            " 13  history      1446 non-null   int64\n",
            " 14  horror       1446 non-null   int64\n",
            " 15  music        1446 non-null   int64\n",
            " 16  musical      1446 non-null   int64\n",
            " 17  mystery      1446 non-null   int64\n",
            " 18  n            1446 non-null   int64\n",
            " 19  news         1446 non-null   int64\n",
            " 20  reality-tv   1446 non-null   int64\n",
            " 21  romance      1446 non-null   int64\n",
            " 22  sci-fi       1446 non-null   int64\n",
            " 23  short        1446 non-null   int64\n",
            " 24  sport        1446 non-null   int64\n",
            " 25  talk-show    1446 non-null   int64\n",
            " 26  thriller     1446 non-null   int64\n",
            " 27  war          1446 non-null   int64\n",
            " 28  western      1446 non-null   int64\n",
            "dtypes: int64(29)\n",
            "memory usage: 338.9 KB\n"
          ],
          "name": "stdout"
        }
      ]
    },
    {
      "cell_type": "code",
      "metadata": {
        "id": "1DSh9U-xoplU"
      },
      "source": [
        "# Drop de n \n",
        "generos = generos.drop(columns = 'n', axis = 0)"
      ],
      "execution_count": null,
      "outputs": []
    },
    {
      "cell_type": "code",
      "metadata": {
        "id": "1hvc3T2FosKf"
      },
      "source": [
        "# Calculando percentual \n",
        "generos_percentual = 100 * pd.Series(generos.sum()).sort_values(ascending = False)/ generos.shape[0]"
      ],
      "execution_count": null,
      "outputs": []
    },
    {
      "cell_type": "code",
      "metadata": {
        "colab": {
          "base_uri": "https://localhost:8080/"
        },
        "id": "Jf0tYf-8ovKt",
        "outputId": "7bdae941-27e6-41df-ccbd-87d6ff8fc801"
      },
      "source": [
        "#Visualizando\n",
        "generos_percentual.head(10)"
      ],
      "execution_count": null,
      "outputs": [
        {
          "output_type": "execute_result",
          "data": {
            "text/plain": [
              "drama          18.395574\n",
              "comedy         16.943292\n",
              "documentary    15.975104\n",
              "adventure      14.868603\n",
              "action         14.591978\n",
              "romance        13.485477\n",
              "crime          13.001383\n",
              "mystery        12.586445\n",
              "thriller       12.378976\n",
              "fantasy        12.240664\n",
              "dtype: float64"
            ]
          },
          "metadata": {},
          "execution_count": 41
        }
      ]
    },
    {
      "cell_type": "code",
      "metadata": {
        "colab": {
          "base_uri": "https://localhost:8080/",
          "height": 563
        },
        "id": "aQkyKgwUoyEf",
        "outputId": "9f6de53a-23e6-4a6e-8269-af4a24df75dd"
      },
      "source": [
        "# Plot\n",
        "plt.figure(figsize = (16,8))\n",
        "sns.barplot(x = generos_percentual.values, y= generos_percentual.index, orient = \"h\", palette = \"terrain\")\n",
        "plt.ylabel('Gênero')\n",
        "plt.xlabel(\"\\nPercentual de Filmes (%)\")\n",
        "plt.title('\\nNúmero (Percentual) de Títulos por Gênero\\n')\n",
        "plt.show();"
      ],
      "execution_count": null,
      "outputs": [
        {
          "output_type": "display_data",
          "data": {
            "image/png": "[encoded data removed]",
            "text/plain": [
              "<Figure size 1152x576 with 1 Axes>"
            ]
          },
          "metadata": {}
        }
      ]
    },
    {
      "cell_type": "markdown",
      "metadata": {
        "id": "8z8wiEqio1ZI"
      },
      "source": [
        "#**3 - Qual a Mediana de Avaliação de Filmes por Gênero ?**"
      ]
    },
    {
      "cell_type": "code",
      "metadata": {
        "id": "I9KvXU_Lo5JE"
      },
      "source": [
        "# Criando a consulta SQL \n",
        "consulta3 = '''\n",
        "            SELECT rating, genres FROM \n",
        "            ratings JOIN titles ON ratings.title_id = titles.title_id \n",
        "            WHERE premiered <= 2022 AND type = 'movie'\n",
        "            '''"
      ],
      "execution_count": null,
      "outputs": []
    },
    {
      "cell_type": "code",
      "metadata": {
        "id": "blhKl3nBo8G8"
      },
      "source": [
        "# Resultado\n",
        "resultado3 = pd.read_sql_query(consulta3, conn)"
      ],
      "execution_count": null,
      "outputs": []
    },
    {
      "cell_type": "code",
      "metadata": {
        "colab": {
          "base_uri": "https://localhost:8080/",
          "height": 419
        },
        "id": "fjL3Ekb8o_Fl",
        "outputId": "58710f70-3e83-496a-9922-fffb2243df86"
      },
      "source": [
        "# Visualização\n",
        "display(resultado3)"
      ],
      "execution_count": null,
      "outputs": [
        {
          "output_type": "display_data",
          "data": {
            "text/html": [
              "<div>\n",
              "<style scoped>\n",
              "    .dataframe tbody tr th:only-of-type {\n",
              "        vertical-align: middle;\n",
              "    }\n",
              "\n",
              "    .dataframe tbody tr th {\n",
              "        vertical-align: top;\n",
              "    }\n",
              "\n",
              "    .dataframe thead th {\n",
              "        text-align: right;\n",
              "    }\n",
              "</style>\n",
              "<table border=\"1\" class=\"dataframe\">\n",
              "  <thead>\n",
              "    <tr style=\"text-align: right;\">\n",
              "      <th></th>\n",
              "      <th>rating</th>\n",
              "      <th>genres</th>\n",
              "    </tr>\n",
              "  </thead>\n",
              "  <tbody>\n",
              "    <tr>\n",
              "      <th>0</th>\n",
              "      <td>4.5</td>\n",
              "      <td>\\N</td>\n",
              "    </tr>\n",
              "    <tr>\n",
              "      <th>1</th>\n",
              "      <td>6.1</td>\n",
              "      <td>Action,Adventure,Biography</td>\n",
              "    </tr>\n",
              "    <tr>\n",
              "      <th>2</th>\n",
              "      <td>5.2</td>\n",
              "      <td>Drama</td>\n",
              "    </tr>\n",
              "    <tr>\n",
              "      <th>3</th>\n",
              "      <td>4.5</td>\n",
              "      <td>Drama</td>\n",
              "    </tr>\n",
              "    <tr>\n",
              "      <th>4</th>\n",
              "      <td>3.8</td>\n",
              "      <td>Drama</td>\n",
              "    </tr>\n",
              "    <tr>\n",
              "      <th>...</th>\n",
              "      <td>...</td>\n",
              "      <td>...</td>\n",
              "    </tr>\n",
              "    <tr>\n",
              "      <th>267555</th>\n",
              "      <td>3.5</td>\n",
              "      <td>Action,Adventure,Thriller</td>\n",
              "    </tr>\n",
              "    <tr>\n",
              "      <th>267556</th>\n",
              "      <td>5.8</td>\n",
              "      <td>Thriller</td>\n",
              "    </tr>\n",
              "    <tr>\n",
              "      <th>267557</th>\n",
              "      <td>6.3</td>\n",
              "      <td>Adventure,Drama,History</td>\n",
              "    </tr>\n",
              "    <tr>\n",
              "      <th>267558</th>\n",
              "      <td>3.8</td>\n",
              "      <td>Adventure,History,War</td>\n",
              "    </tr>\n",
              "    <tr>\n",
              "      <th>267559</th>\n",
              "      <td>8.3</td>\n",
              "      <td>Drama</td>\n",
              "    </tr>\n",
              "  </tbody>\n",
              "</table>\n",
              "<p>267560 rows × 2 columns</p>\n",
              "</div>"
            ],
            "text/plain": [
              "        rating                      genres\n",
              "0          4.5                          \\N\n",
              "1          6.1  Action,Adventure,Biography\n",
              "2          5.2                       Drama\n",
              "3          4.5                       Drama\n",
              "4          3.8                       Drama\n",
              "...        ...                         ...\n",
              "267555     3.5   Action,Adventure,Thriller\n",
              "267556     5.8                    Thriller\n",
              "267557     6.3     Adventure,Drama,History\n",
              "267558     3.8       Adventure,History,War\n",
              "267559     8.3                       Drama\n",
              "\n",
              "[267560 rows x 2 columns]"
            ]
          },
          "metadata": {}
        }
      ]
    },
    {
      "cell_type": "code",
      "metadata": {
        "id": "yaZTvqcEpB9Y"
      },
      "source": [
        "# Criando uma função para retornar os gêneros\n",
        "def retorna_generos(df):\n",
        "    df['genres'] = df['genres'].str.lower().values\n",
        "    temp = df['genres'].dropna()\n",
        "    vetor = CountVectorizer(token_pattern = '(?u)\\\\b[\\\\w-]+\\\\b', analyzer = 'word').fit(temp)\n",
        "    generos_unicos =  vetor.get_feature_names()\n",
        "    generos_unicos = [genre for genre in generos_unicos if len(genre) > 1]\n",
        "    return generos_unicos"
      ],
      "execution_count": null,
      "outputs": []
    },
    {
      "cell_type": "code",
      "metadata": {
        "id": "XxHB60pJpFAz"
      },
      "source": [
        "# Aplicando a função\n",
        "generos_unicos = retorna_generos(resultado3)"
      ],
      "execution_count": null,
      "outputs": []
    },
    {
      "cell_type": "code",
      "metadata": {
        "colab": {
          "base_uri": "https://localhost:8080/"
        },
        "id": "uHaR6FF9pIat",
        "outputId": "3b80d4e1-fed3-4b52-debc-b7dc4193a596"
      },
      "source": [
        "#Visualizando \n",
        "generos_unicos"
      ],
      "execution_count": null,
      "outputs": [
        {
          "output_type": "execute_result",
          "data": {
            "text/plain": [
              "['action',\n",
              " 'adult',\n",
              " 'adventure',\n",
              " 'animation',\n",
              " 'biography',\n",
              " 'comedy',\n",
              " 'crime',\n",
              " 'documentary',\n",
              " 'drama',\n",
              " 'family',\n",
              " 'fantasy',\n",
              " 'film-noir',\n",
              " 'game-show',\n",
              " 'history',\n",
              " 'horror',\n",
              " 'music',\n",
              " 'musical',\n",
              " 'mystery',\n",
              " 'news',\n",
              " 'reality-tv',\n",
              " 'romance',\n",
              " 'sci-fi',\n",
              " 'short',\n",
              " 'sport',\n",
              " 'talk-show',\n",
              " 'thriller',\n",
              " 'war',\n",
              " 'western']"
            ]
          },
          "metadata": {},
          "execution_count": 48
        }
      ]
    },
    {
      "cell_type": "code",
      "metadata": {
        "id": "BTEl48ehpLiY"
      },
      "source": [
        "# Criando Listas vazias\n",
        "genero_counts = []\n",
        "genero_ratings = []"
      ],
      "execution_count": null,
      "outputs": []
    },
    {
      "cell_type": "code",
      "metadata": {
        "id": "i3Qz7GD2pOR-"
      },
      "source": [
        "# Loop\n",
        "for item in generos_unicos:\n",
        "    \n",
        "    # Retorna a contagem de filmes por gênero\n",
        "    consulta = 'SELECT COUNT(rating) FROM ratings JOIN titles ON ratings.title_id=titles.title_id WHERE genres LIKE '+ '\\''+'%'+item+'%'+'\\' AND type=\\'movie\\''\n",
        "    resultado = pd.read_sql_query(consulta, conn)\n",
        "    genero_counts.append(resultado.values[0][0])\n",
        "  \n",
        "     # Retorna a avaliação de filmes por gênero\n",
        "    consulta = 'SELECT rating FROM ratings JOIN titles ON ratings.title_id=titles.title_id WHERE genres LIKE '+ '\\''+'%'+item+'%'+'\\' AND type=\\'movie\\''\n",
        "    resultado = pd.read_sql_query(consulta, conn)\n",
        "    genero_ratings.append(np.median(resultado['rating']))"
      ],
      "execution_count": null,
      "outputs": []
    },
    {
      "cell_type": "code",
      "metadata": {
        "id": "Kfg3xWZ2paXQ"
      },
      "source": [
        "# Preparando o dataframe final\n",
        "df_genero_ratings = pd.DataFrame()\n",
        "df_genero_ratings['genres'] = generos_unicos\n",
        "df_genero_ratings['count'] = genero_counts\n",
        "df_genero_ratings['rating'] = genero_ratings"
      ],
      "execution_count": null,
      "outputs": []
    },
    {
      "cell_type": "code",
      "metadata": {
        "colab": {
          "base_uri": "https://localhost:8080/",
          "height": 359
        },
        "id": "eghXk0bnpdM2",
        "outputId": "6cd3a681-616e-43a8-b830-322bf7eaa41f"
      },
      "source": [
        "#Visualizando\n",
        "df_genero_ratings.head(10)"
      ],
      "execution_count": null,
      "outputs": [
        {
          "output_type": "execute_result",
          "data": {
            "text/html": [
              "<div>\n",
              "<style scoped>\n",
              "    .dataframe tbody tr th:only-of-type {\n",
              "        vertical-align: middle;\n",
              "    }\n",
              "\n",
              "    .dataframe tbody tr th {\n",
              "        vertical-align: top;\n",
              "    }\n",
              "\n",
              "    .dataframe thead th {\n",
              "        text-align: right;\n",
              "    }\n",
              "</style>\n",
              "<table border=\"1\" class=\"dataframe\">\n",
              "  <thead>\n",
              "    <tr style=\"text-align: right;\">\n",
              "      <th></th>\n",
              "      <th>genres</th>\n",
              "      <th>count</th>\n",
              "      <th>rating</th>\n",
              "    </tr>\n",
              "  </thead>\n",
              "  <tbody>\n",
              "    <tr>\n",
              "      <th>0</th>\n",
              "      <td>action</td>\n",
              "      <td>28757</td>\n",
              "      <td>5.8</td>\n",
              "    </tr>\n",
              "    <tr>\n",
              "      <th>1</th>\n",
              "      <td>adult</td>\n",
              "      <td>4075</td>\n",
              "      <td>5.8</td>\n",
              "    </tr>\n",
              "    <tr>\n",
              "      <th>2</th>\n",
              "      <td>adventure</td>\n",
              "      <td>17667</td>\n",
              "      <td>6.0</td>\n",
              "    </tr>\n",
              "    <tr>\n",
              "      <th>3</th>\n",
              "      <td>animation</td>\n",
              "      <td>4681</td>\n",
              "      <td>6.4</td>\n",
              "    </tr>\n",
              "    <tr>\n",
              "      <th>4</th>\n",
              "      <td>biography</td>\n",
              "      <td>8048</td>\n",
              "      <td>7.0</td>\n",
              "    </tr>\n",
              "    <tr>\n",
              "      <th>5</th>\n",
              "      <td>comedy</td>\n",
              "      <td>66716</td>\n",
              "      <td>6.0</td>\n",
              "    </tr>\n",
              "    <tr>\n",
              "      <th>6</th>\n",
              "      <td>crime</td>\n",
              "      <td>23055</td>\n",
              "      <td>6.1</td>\n",
              "    </tr>\n",
              "    <tr>\n",
              "      <th>7</th>\n",
              "      <td>documentary</td>\n",
              "      <td>39202</td>\n",
              "      <td>7.3</td>\n",
              "    </tr>\n",
              "    <tr>\n",
              "      <th>8</th>\n",
              "      <td>drama</td>\n",
              "      <td>118775</td>\n",
              "      <td>6.3</td>\n",
              "    </tr>\n",
              "    <tr>\n",
              "      <th>9</th>\n",
              "      <td>family</td>\n",
              "      <td>10168</td>\n",
              "      <td>6.3</td>\n",
              "    </tr>\n",
              "  </tbody>\n",
              "</table>\n",
              "</div>"
            ],
            "text/plain": [
              "        genres   count  rating\n",
              "0       action   28757     5.8\n",
              "1        adult    4075     5.8\n",
              "2    adventure   17667     6.0\n",
              "3    animation    4681     6.4\n",
              "4    biography    8048     7.0\n",
              "5       comedy   66716     6.0\n",
              "6        crime   23055     6.1\n",
              "7  documentary   39202     7.3\n",
              "8        drama  118775     6.3\n",
              "9       family   10168     6.3"
            ]
          },
          "metadata": {},
          "execution_count": 52
        }
      ]
    },
    {
      "cell_type": "code",
      "metadata": {
        "id": "lgr5p38YpgA8"
      },
      "source": [
        "# Drop do indice 18 (news), não quero esse Gênero\n",
        "df_genero_ratings = df_genero_ratings.drop(index = 18)"
      ],
      "execution_count": null,
      "outputs": []
    },
    {
      "cell_type": "code",
      "metadata": {
        "id": "cY0iRcwbpjpk"
      },
      "source": [
        "# Ordenando Resultados\n",
        "df_genero_ratings = df_genero_ratings.sort_values(by = 'rating', ascending = False)"
      ],
      "execution_count": null,
      "outputs": []
    },
    {
      "cell_type": "code",
      "metadata": {
        "colab": {
          "base_uri": "https://localhost:8080/",
          "height": 657
        },
        "id": "giVrGjwDpms2",
        "outputId": "1cf58408-9229-4a8b-befc-f2375bba84cf"
      },
      "source": [
        "# Plot\n",
        "\n",
        "# Figura\n",
        "plt.figure(figsize = (16,10))\n",
        "\n",
        "# Barplot\n",
        "sns.barplot(y = df_genero_ratings.genres, x = df_genero_ratings.rating, orient = \"h\")\n",
        "\n",
        "# Textos do gráfico\n",
        "for i in range(len(df_genero_ratings.index)):\n",
        "    \n",
        "    plt.text(4.0, \n",
        "             i + 0.25, \n",
        "             str(df_genero_ratings['count'][df_genero_ratings.index[i]]) + \" filmes\")\n",
        "    \n",
        "    plt.text(df_genero_ratings.rating[df_genero_ratings.index[i]],\n",
        "             i + 0.25,\n",
        "             round(df_genero_ratings[\"rating\"][df_genero_ratings.index[i]],2))\n",
        "\n",
        "plt.ylabel('Gênero')             \n",
        "plt.xlabel('Mediana da Avaliação')\n",
        "plt.title('\\nMediana de Avaliação Por Gênero\\n')\n",
        "plt.show()\n",
        "    "
      ],
      "execution_count": null,
      "outputs": [
        {
          "output_type": "display_data",
          "data": {
            "image/png": "[encoded data removed]",
            "text/plain": [
              "<Figure size 1152x720 with 1 Axes>"
            ]
          },
          "metadata": {}
        }
      ]
    },
    {
      "cell_type": "markdown",
      "metadata": {
        "id": "xkOKSCGeptQJ"
      },
      "source": [
        "#**4 - Qual a Mediana de Avaliação dos Filmes em Relação ao Ano de Estréia ?**"
      ]
    },
    {
      "cell_type": "code",
      "metadata": {
        "id": "TjnHwjlSpuXE"
      },
      "source": [
        "# Criando a consulta SQL \n",
        "consulta4 = '''\n",
        "            SELECT rating as Rating, premiered FROM\n",
        "            ratings JOIN titles ON ratings.title_id = titles.title_id\n",
        "            WHERE premiered <= 2022 AND type = 'movie'\n",
        "            ORDER BY premiered\n",
        "            '''"
      ],
      "execution_count": null,
      "outputs": []
    },
    {
      "cell_type": "code",
      "metadata": {
        "id": "VxFgFkfCpxMF"
      },
      "source": [
        "# Resultado\n",
        "resultado4 = pd.read_sql_query(consulta4, conn)"
      ],
      "execution_count": null,
      "outputs": []
    },
    {
      "cell_type": "code",
      "metadata": {
        "colab": {
          "base_uri": "https://localhost:8080/",
          "height": 419
        },
        "id": "CS6zFArNp1AV",
        "outputId": "1adc26ea-c6f7-4dd6-9ce3-8242f6aeb92e"
      },
      "source": [
        "display(resultado4)"
      ],
      "execution_count": null,
      "outputs": [
        {
          "output_type": "display_data",
          "data": {
            "text/html": [
              "<div>\n",
              "<style scoped>\n",
              "    .dataframe tbody tr th:only-of-type {\n",
              "        vertical-align: middle;\n",
              "    }\n",
              "\n",
              "    .dataframe tbody tr th {\n",
              "        vertical-align: top;\n",
              "    }\n",
              "\n",
              "    .dataframe thead th {\n",
              "        text-align: right;\n",
              "    }\n",
              "</style>\n",
              "<table border=\"1\" class=\"dataframe\">\n",
              "  <thead>\n",
              "    <tr style=\"text-align: right;\">\n",
              "      <th></th>\n",
              "      <th>Rating</th>\n",
              "      <th>premiered</th>\n",
              "    </tr>\n",
              "  </thead>\n",
              "  <tbody>\n",
              "    <tr>\n",
              "      <th>0</th>\n",
              "      <td>6.4</td>\n",
              "      <td>1896</td>\n",
              "    </tr>\n",
              "    <tr>\n",
              "      <th>1</th>\n",
              "      <td>4.4</td>\n",
              "      <td>1897</td>\n",
              "    </tr>\n",
              "    <tr>\n",
              "      <th>2</th>\n",
              "      <td>3.9</td>\n",
              "      <td>1899</td>\n",
              "    </tr>\n",
              "    <tr>\n",
              "      <th>3</th>\n",
              "      <td>3.7</td>\n",
              "      <td>1899</td>\n",
              "    </tr>\n",
              "    <tr>\n",
              "      <th>4</th>\n",
              "      <td>6.0</td>\n",
              "      <td>1900</td>\n",
              "    </tr>\n",
              "    <tr>\n",
              "      <th>...</th>\n",
              "      <td>...</td>\n",
              "      <td>...</td>\n",
              "    </tr>\n",
              "    <tr>\n",
              "      <th>267555</th>\n",
              "      <td>4.8</td>\n",
              "      <td>2021</td>\n",
              "    </tr>\n",
              "    <tr>\n",
              "      <th>267556</th>\n",
              "      <td>9.8</td>\n",
              "      <td>2021</td>\n",
              "    </tr>\n",
              "    <tr>\n",
              "      <th>267557</th>\n",
              "      <td>8.3</td>\n",
              "      <td>2021</td>\n",
              "    </tr>\n",
              "    <tr>\n",
              "      <th>267558</th>\n",
              "      <td>6.0</td>\n",
              "      <td>2021</td>\n",
              "    </tr>\n",
              "    <tr>\n",
              "      <th>267559</th>\n",
              "      <td>8.0</td>\n",
              "      <td>2021</td>\n",
              "    </tr>\n",
              "  </tbody>\n",
              "</table>\n",
              "<p>267560 rows × 2 columns</p>\n",
              "</div>"
            ],
            "text/plain": [
              "        Rating  premiered\n",
              "0          6.4       1896\n",
              "1          4.4       1897\n",
              "2          3.9       1899\n",
              "3          3.7       1899\n",
              "4          6.0       1900\n",
              "...        ...        ...\n",
              "267555     4.8       2021\n",
              "267556     9.8       2021\n",
              "267557     8.3       2021\n",
              "267558     6.0       2021\n",
              "267559     8.0       2021\n",
              "\n",
              "[267560 rows x 2 columns]"
            ]
          },
          "metadata": {}
        }
      ]
    },
    {
      "cell_type": "code",
      "metadata": {
        "id": "rtq1foXdp8ZF"
      },
      "source": [
        "# Calculando a mediana ao longo do tempo (anos)\n",
        "ratings = []\n",
        "for year in set(resultado4['premiered']):\n",
        "    ratings.append(np.median(resultado4[resultado4['premiered'] == year]['Rating']))"
      ],
      "execution_count": null,
      "outputs": []
    },
    {
      "cell_type": "code",
      "metadata": {
        "colab": {
          "base_uri": "https://localhost:8080/"
        },
        "id": "EKgDpJ1OqCL0",
        "outputId": "06dce49f-0196-4899-b3c1-5885d900a88d"
      },
      "source": [
        "\n",
        "type(ratings)"
      ],
      "execution_count": null,
      "outputs": [
        {
          "output_type": "execute_result",
          "data": {
            "text/plain": [
              "list"
            ]
          },
          "metadata": {},
          "execution_count": 60
        }
      ]
    },
    {
      "cell_type": "code",
      "metadata": {
        "colab": {
          "base_uri": "https://localhost:8080/"
        },
        "id": "T4jAAuxWqEuI",
        "outputId": "73107bfc-9735-4989-a1b4-0eac3213248d"
      },
      "source": [
        "ratings[1:10]"
      ],
      "execution_count": null,
      "outputs": [
        {
          "output_type": "execute_result",
          "data": {
            "text/plain": [
              "[4.4, 3.8, 6.15, 4.5, 3.5, 4.6, 5.4, 4.5, 3.6]"
            ]
          },
          "metadata": {},
          "execution_count": 62
        }
      ]
    },
    {
      "cell_type": "code",
      "metadata": {
        "id": "NcJDJpg4qKcm"
      },
      "source": [
        "# Lista de anos\n",
        "anos = list(set(resultado4['premiered']))"
      ],
      "execution_count": null,
      "outputs": []
    },
    {
      "cell_type": "code",
      "metadata": {
        "colab": {
          "base_uri": "https://localhost:8080/"
        },
        "id": "hy814StFqM5z",
        "outputId": "c6a373f2-0de4-4ed2-a35f-470e9ae4565a"
      },
      "source": [
        "anos[1:10]"
      ],
      "execution_count": null,
      "outputs": [
        {
          "output_type": "execute_result",
          "data": {
            "text/plain": [
              "[1897, 1899, 1900, 1901, 1902, 1903, 1904, 1905, 1906]"
            ]
          },
          "metadata": {},
          "execution_count": 65
        }
      ]
    },
    {
      "cell_type": "code",
      "metadata": {
        "colab": {
          "base_uri": "https://localhost:8080/",
          "height": 563
        },
        "id": "PxN3FD9cqREd",
        "outputId": "c4fde0f1-60b1-45b8-ddf4-8793e56dcb32"
      },
      "source": [
        "# Plot\n",
        "plt.figure(figsize = (16,8))\n",
        "plt.plot(anos, ratings)\n",
        "plt.xlabel('\\nAno')\n",
        "plt.ylabel('Mediana de Avaliação')\n",
        "plt.title('\\nMediana de Avaliação dos Filmes Em Relação ao Ano de Estréia\\n')\n",
        "plt.show()"
      ],
      "execution_count": null,
      "outputs": [
        {
          "output_type": "display_data",
          "data": {
            "image/png": "[encoded data removed]",
            "text/plain": [
              "<Figure size 1152x576 with 1 Axes>"
            ]
          },
          "metadata": {}
        }
      ]
    },
    {
      "cell_type": "markdown",
      "metadata": {
        "id": "1UQ6YjXara2i"
      },
      "source": [
        "#**5 - Qual o Número de Filmes Avaliados Por Gênero Em Relação ao Ano de Estréia?**\n",
        "Top 5"
      ]
    },
    {
      "cell_type": "markdown",
      "metadata": {
        "id": "LUkjwKRKsPrP"
      },
      "source": [
        ""
      ]
    },
    {
      "cell_type": "code",
      "metadata": {
        "id": "8FS0J8I3rdZH"
      },
      "source": [
        "# Criando a consulta SQL \n",
        "consulta5 = '''SELECT genres FROM titles '''"
      ],
      "execution_count": null,
      "outputs": []
    },
    {
      "cell_type": "code",
      "metadata": {
        "id": "RZRQDL0iriRQ"
      },
      "source": [
        "# Resultado\n",
        "resultado5 = pd.read_sql_query(consulta5, conn)"
      ],
      "execution_count": null,
      "outputs": []
    },
    {
      "cell_type": "code",
      "metadata": {
        "colab": {
          "base_uri": "https://localhost:8080/",
          "height": 419
        },
        "id": "wEN3YHALrmf8",
        "outputId": "2b5b580d-ea18-434b-b56b-000a170759d5"
      },
      "source": [
        "display(resultado5)"
      ],
      "execution_count": null,
      "outputs": [
        {
          "output_type": "display_data",
          "data": {
            "text/html": [
              "<div>\n",
              "<style scoped>\n",
              "    .dataframe tbody tr th:only-of-type {\n",
              "        vertical-align: middle;\n",
              "    }\n",
              "\n",
              "    .dataframe tbody tr th {\n",
              "        vertical-align: top;\n",
              "    }\n",
              "\n",
              "    .dataframe thead th {\n",
              "        text-align: right;\n",
              "    }\n",
              "</style>\n",
              "<table border=\"1\" class=\"dataframe\">\n",
              "  <thead>\n",
              "    <tr style=\"text-align: right;\">\n",
              "      <th></th>\n",
              "      <th>genres</th>\n",
              "    </tr>\n",
              "  </thead>\n",
              "  <tbody>\n",
              "    <tr>\n",
              "      <th>0</th>\n",
              "      <td>Documentary,Short</td>\n",
              "    </tr>\n",
              "    <tr>\n",
              "      <th>1</th>\n",
              "      <td>Animation,Short</td>\n",
              "    </tr>\n",
              "    <tr>\n",
              "      <th>2</th>\n",
              "      <td>Animation,Comedy,Romance</td>\n",
              "    </tr>\n",
              "    <tr>\n",
              "      <th>3</th>\n",
              "      <td>Animation,Short</td>\n",
              "    </tr>\n",
              "    <tr>\n",
              "      <th>4</th>\n",
              "      <td>Comedy,Short</td>\n",
              "    </tr>\n",
              "    <tr>\n",
              "      <th>...</th>\n",
              "      <td>...</td>\n",
              "    </tr>\n",
              "    <tr>\n",
              "      <th>8203685</th>\n",
              "      <td>Action,Drama,Family</td>\n",
              "    </tr>\n",
              "    <tr>\n",
              "      <th>8203686</th>\n",
              "      <td>Action,Drama,Family</td>\n",
              "    </tr>\n",
              "    <tr>\n",
              "      <th>8203687</th>\n",
              "      <td>Action,Drama,Family</td>\n",
              "    </tr>\n",
              "    <tr>\n",
              "      <th>8203688</th>\n",
              "      <td>Short</td>\n",
              "    </tr>\n",
              "    <tr>\n",
              "      <th>8203689</th>\n",
              "      <td>Animation,Comedy,Family</td>\n",
              "    </tr>\n",
              "  </tbody>\n",
              "</table>\n",
              "<p>8203690 rows × 1 columns</p>\n",
              "</div>"
            ],
            "text/plain": [
              "                           genres\n",
              "0               Documentary,Short\n",
              "1                 Animation,Short\n",
              "2        Animation,Comedy,Romance\n",
              "3                 Animation,Short\n",
              "4                    Comedy,Short\n",
              "...                           ...\n",
              "8203685       Action,Drama,Family\n",
              "8203686       Action,Drama,Family\n",
              "8203687       Action,Drama,Family\n",
              "8203688                     Short\n",
              "8203689   Animation,Comedy,Family\n",
              "\n",
              "[8203690 rows x 1 columns]"
            ]
          },
          "metadata": {}
        }
      ]
    },
    {
      "cell_type": "code",
      "metadata": {
        "id": "LS6kbZCBroxD"
      },
      "source": [
        "# Retornando gêneros únicos\n",
        "generos_unicos = retorna_generos(resultado5)"
      ],
      "execution_count": null,
      "outputs": []
    },
    {
      "cell_type": "code",
      "metadata": {
        "colab": {
          "base_uri": "https://localhost:8080/"
        },
        "id": "ppFzEr4lrttK",
        "outputId": "eb12f19e-9ae6-4b5c-ec42-8cd37142af1d"
      },
      "source": [
        "# Visualiza o resultado\n",
        "generos_unicos"
      ],
      "execution_count": null,
      "outputs": [
        {
          "output_type": "execute_result",
          "data": {
            "text/plain": [
              "['action',\n",
              " 'adult',\n",
              " 'adventure',\n",
              " 'animation',\n",
              " 'biography',\n",
              " 'comedy',\n",
              " 'crime',\n",
              " 'documentary',\n",
              " 'drama',\n",
              " 'family',\n",
              " 'fantasy',\n",
              " 'film-noir',\n",
              " 'game-show',\n",
              " 'history',\n",
              " 'horror',\n",
              " 'music',\n",
              " 'musical',\n",
              " 'mystery',\n",
              " 'news',\n",
              " 'reality-tv',\n",
              " 'romance',\n",
              " 'sci-fi',\n",
              " 'short',\n",
              " 'sport',\n",
              " 'talk-show',\n",
              " 'thriller',\n",
              " 'war',\n",
              " 'western']"
            ]
          },
          "metadata": {},
          "execution_count": 71
        }
      ]
    },
    {
      "cell_type": "code",
      "metadata": {
        "id": "sSBSGF7cr7mk"
      },
      "source": [
        "# Fazendo a contagem\n",
        "genero_count = []\n",
        "for item in generos_unicos:\n",
        "    consulta = 'SELECT COUNT(*) COUNT FROM  titles  WHERE genres LIKE '+ '\\''+'%'+item+'%'+'\\' AND type=\\'movie\\' AND premiered <= 2022'\n",
        "    resultado = pd.read_sql_query(consulta, conn)\n",
        "    genero_count.append(resultado['COUNT'].values[0])"
      ],
      "execution_count": null,
      "outputs": []
    },
    {
      "cell_type": "code",
      "metadata": {
        "id": "U3N7oVRwsAkK"
      },
      "source": [
        "# Preparando o dataframe\n",
        "df_genero_count = pd.DataFrame()\n",
        "df_genero_count['genre'] = generos_unicos\n",
        "df_genero_count['Count'] = genero_count"
      ],
      "execution_count": null,
      "outputs": []
    },
    {
      "cell_type": "code",
      "metadata": {
        "id": "WbzOYlE4sGcP"
      },
      "source": [
        "# Calculando os top 5\n",
        "df_genero_count = df_genero_count[df_genero_count['genre'] != 'n']\n",
        "df_genero_count = df_genero_count.sort_values(by = 'Count', ascending = False)\n",
        "top_generos = df_genero_count.head()['genre'].values"
      ],
      "execution_count": null,
      "outputs": []
    },
    {
      "cell_type": "code",
      "metadata": {
        "colab": {
          "base_uri": "https://localhost:8080/",
          "height": 563
        },
        "id": "ZkofIwnNsKyG",
        "outputId": "9ae7f826-5211-4d6a-e192-ac03f3a2d766"
      },
      "source": [
        "# Plot\n",
        "\n",
        "# Figura\n",
        "plt.figure(figsize = (16,8))\n",
        "\n",
        "# Loop e Plot\n",
        "for item in top_generos:\n",
        "    consulta = 'SELECT COUNT(*) Number_of_movies, premiered Year FROM  titles  WHERE genres LIKE '+ '\\''+'%'+item+'%'+'\\' AND type=\\'movie\\' AND Year <=2022 GROUP BY Year'\n",
        "    resultado = pd.read_sql_query(consulta, conn)\n",
        "    plt.plot(resultado['Year'], resultado['Number_of_movies'])\n",
        "\n",
        "plt.xlabel('\\nAno')\n",
        "plt.ylabel('Número de Filmes Avaliados')\n",
        "plt.title('\\nNúmero de Filmes Avaliados Por Gênero Em Relação ao Ano de Estréia\\n')\n",
        "plt.legend(labels = top_generos)\n",
        "plt.show()"
      ],
      "execution_count": null,
      "outputs": [
        {
          "output_type": "display_data",
          "data": {
            "image/png": "[encoded data removed]",
            "text/plain": [
              "<Figure size 1152x576 with 1 Axes>"
            ]
          },
          "metadata": {}
        }
      ]
    },
    {
      "cell_type": "markdown",
      "metadata": {
        "id": "901rV-VhsiHS"
      },
      "source": [
        "#**6- Qual o Filme Com Maior Tempo de Duração? Calculando os Percentis.**\n",
        "Percentis e filme mais longo da história."
      ]
    },
    {
      "cell_type": "code",
      "metadata": {
        "id": "4aFBKdoxsntt"
      },
      "source": [
        "# Criando a consulta SQL \n",
        "consulta6 = '''\n",
        "            SELECT runtime_minutes Runtime \n",
        "            FROM titles \n",
        "            WHERE type = 'movie' AND Runtime != 'NaN'\n",
        "            '''"
      ],
      "execution_count": null,
      "outputs": []
    },
    {
      "cell_type": "code",
      "metadata": {
        "id": "cWgS85tp24XC"
      },
      "source": [
        "# Resultado\n",
        "resultado6 = pd.read_sql_query(consulta6, conn)"
      ],
      "execution_count": null,
      "outputs": []
    },
    {
      "cell_type": "code",
      "metadata": {
        "colab": {
          "base_uri": "https://localhost:8080/",
          "height": 419
        },
        "id": "cDu1xbqW26o1",
        "outputId": "36420c5e-5a70-47aa-a877-df76a2225e5a"
      },
      "source": [
        "display(resultado6)"
      ],
      "execution_count": null,
      "outputs": [
        {
          "output_type": "display_data",
          "data": {
            "text/html": [
              "<div>\n",
              "<style scoped>\n",
              "    .dataframe tbody tr th:only-of-type {\n",
              "        vertical-align: middle;\n",
              "    }\n",
              "\n",
              "    .dataframe tbody tr th {\n",
              "        vertical-align: top;\n",
              "    }\n",
              "\n",
              "    .dataframe thead th {\n",
              "        text-align: right;\n",
              "    }\n",
              "</style>\n",
              "<table border=\"1\" class=\"dataframe\">\n",
              "  <thead>\n",
              "    <tr style=\"text-align: right;\">\n",
              "      <th></th>\n",
              "      <th>Runtime</th>\n",
              "    </tr>\n",
              "  </thead>\n",
              "  <tbody>\n",
              "    <tr>\n",
              "      <th>0</th>\n",
              "      <td>100</td>\n",
              "    </tr>\n",
              "    <tr>\n",
              "      <th>1</th>\n",
              "      <td>70</td>\n",
              "    </tr>\n",
              "    <tr>\n",
              "      <th>2</th>\n",
              "      <td>90</td>\n",
              "    </tr>\n",
              "    <tr>\n",
              "      <th>3</th>\n",
              "      <td>120</td>\n",
              "    </tr>\n",
              "    <tr>\n",
              "      <th>4</th>\n",
              "      <td>58</td>\n",
              "    </tr>\n",
              "    <tr>\n",
              "      <th>...</th>\n",
              "      <td>...</td>\n",
              "    </tr>\n",
              "    <tr>\n",
              "      <th>368917</th>\n",
              "      <td>123</td>\n",
              "    </tr>\n",
              "    <tr>\n",
              "      <th>368918</th>\n",
              "      <td>57</td>\n",
              "    </tr>\n",
              "    <tr>\n",
              "      <th>368919</th>\n",
              "      <td>100</td>\n",
              "    </tr>\n",
              "    <tr>\n",
              "      <th>368920</th>\n",
              "      <td>116</td>\n",
              "    </tr>\n",
              "    <tr>\n",
              "      <th>368921</th>\n",
              "      <td>49</td>\n",
              "    </tr>\n",
              "  </tbody>\n",
              "</table>\n",
              "<p>368922 rows × 1 columns</p>\n",
              "</div>"
            ],
            "text/plain": [
              "        Runtime\n",
              "0           100\n",
              "1            70\n",
              "2            90\n",
              "3           120\n",
              "4            58\n",
              "...         ...\n",
              "368917      123\n",
              "368918       57\n",
              "368919      100\n",
              "368920      116\n",
              "368921       49\n",
              "\n",
              "[368922 rows x 1 columns]"
            ]
          },
          "metadata": {}
        }
      ]
    },
    {
      "cell_type": "code",
      "metadata": {
        "colab": {
          "base_uri": "https://localhost:8080/"
        },
        "id": "xcQzGYiY29M3",
        "outputId": "5f4d98ea-ae9b-41d2-9b6c-01c298371778"
      },
      "source": [
        "# Loop para cálculo dos percentis\n",
        "for i in range(101): \n",
        "    val = i\n",
        "    perc = round(np.percentile(resultado6['Runtime'].values, val), 2)\n",
        "    print('{} percentil da duração (runtime) é: {}'.format(val, perc))"
      ],
      "execution_count": null,
      "outputs": [
        {
          "output_type": "stream",
          "text": [
            "0 percentil da duração (runtime) é: 1.0\n",
            "1 percentil da duração (runtime) é: 45.0\n",
            "2 percentil da duração (runtime) é: 48.0\n",
            "3 percentil da duração (runtime) é: 50.0\n",
            "4 percentil da duração (runtime) é: 50.0\n",
            "5 percentil da duração (runtime) é: 52.0\n",
            "6 percentil da duração (runtime) é: 52.0\n",
            "7 percentil da duração (runtime) é: 54.0\n",
            "8 percentil da duração (runtime) é: 55.0\n",
            "9 percentil da duração (runtime) é: 56.0\n",
            "10 percentil da duração (runtime) é: 58.0\n",
            "11 percentil da duração (runtime) é: 59.0\n",
            "12 percentil da duração (runtime) é: 60.0\n",
            "13 percentil da duração (runtime) é: 60.0\n",
            "14 percentil da duração (runtime) é: 60.0\n",
            "15 percentil da duração (runtime) é: 62.0\n",
            "16 percentil da duração (runtime) é: 63.0\n",
            "17 percentil da duração (runtime) é: 65.0\n",
            "18 percentil da duração (runtime) é: 66.0\n",
            "19 percentil da duração (runtime) é: 68.0\n",
            "20 percentil da duração (runtime) é: 70.0\n",
            "21 percentil da duração (runtime) é: 70.0\n",
            "22 percentil da duração (runtime) é: 71.0\n",
            "23 percentil da duração (runtime) é: 72.0\n",
            "24 percentil da duração (runtime) é: 73.0\n",
            "25 percentil da duração (runtime) é: 74.0\n",
            "26 percentil da duração (runtime) é: 75.0\n",
            "27 percentil da duração (runtime) é: 75.0\n",
            "28 percentil da duração (runtime) é: 76.0\n",
            "29 percentil da duração (runtime) é: 77.0\n",
            "30 percentil da duração (runtime) é: 78.0\n",
            "31 percentil da duração (runtime) é: 79.0\n",
            "32 percentil da duração (runtime) é: 80.0\n",
            "33 percentil da duração (runtime) é: 80.0\n",
            "34 percentil da duração (runtime) é: 80.0\n",
            "35 percentil da duração (runtime) é: 81.0\n",
            "36 percentil da duração (runtime) é: 82.0\n",
            "37 percentil da duração (runtime) é: 82.0\n",
            "38 percentil da duração (runtime) é: 83.0\n",
            "39 percentil da duração (runtime) é: 84.0\n",
            "40 percentil da duração (runtime) é: 84.0\n",
            "41 percentil da duração (runtime) é: 85.0\n",
            "42 percentil da duração (runtime) é: 85.0\n",
            "43 percentil da duração (runtime) é: 85.0\n",
            "44 percentil da duração (runtime) é: 86.0\n",
            "45 percentil da duração (runtime) é: 86.0\n",
            "46 percentil da duração (runtime) é: 87.0\n",
            "47 percentil da duração (runtime) é: 87.0\n",
            "48 percentil da duração (runtime) é: 88.0\n",
            "49 percentil da duração (runtime) é: 88.0\n",
            "50 percentil da duração (runtime) é: 89.0\n",
            "51 percentil da duração (runtime) é: 90.0\n",
            "52 percentil da duração (runtime) é: 90.0\n",
            "53 percentil da duração (runtime) é: 90.0\n",
            "54 percentil da duração (runtime) é: 90.0\n",
            "55 percentil da duração (runtime) é: 90.0\n",
            "56 percentil da duração (runtime) é: 90.0\n",
            "57 percentil da duração (runtime) é: 90.0\n",
            "58 percentil da duração (runtime) é: 91.0\n",
            "59 percentil da duração (runtime) é: 91.0\n",
            "60 percentil da duração (runtime) é: 92.0\n",
            "61 percentil da duração (runtime) é: 92.0\n",
            "62 percentil da duração (runtime) é: 93.0\n",
            "63 percentil da duração (runtime) é: 93.0\n",
            "64 percentil da duração (runtime) é: 94.0\n",
            "65 percentil da duração (runtime) é: 94.0\n",
            "66 percentil da duração (runtime) é: 95.0\n",
            "67 percentil da duração (runtime) é: 95.0\n",
            "68 percentil da duração (runtime) é: 96.0\n",
            "69 percentil da duração (runtime) é: 96.0\n",
            "70 percentil da duração (runtime) é: 97.0\n",
            "71 percentil da duração (runtime) é: 98.0\n",
            "72 percentil da duração (runtime) é: 98.0\n",
            "73 percentil da duração (runtime) é: 99.0\n",
            "74 percentil da duração (runtime) é: 100.0\n",
            "75 percentil da duração (runtime) é: 100.0\n",
            "76 percentil da duração (runtime) é: 100.0\n",
            "77 percentil da duração (runtime) é: 101.0\n",
            "78 percentil da duração (runtime) é: 102.0\n",
            "79 percentil da duração (runtime) é: 103.0\n",
            "80 percentil da duração (runtime) é: 104.0\n",
            "81 percentil da duração (runtime) é: 105.0\n",
            "82 percentil da duração (runtime) é: 106.0\n",
            "83 percentil da duração (runtime) é: 107.0\n",
            "84 percentil da duração (runtime) é: 108.0\n",
            "85 percentil da duração (runtime) é: 110.0\n",
            "86 percentil da duração (runtime) é: 110.0\n",
            "87 percentil da duração (runtime) é: 112.0\n",
            "88 percentil da duração (runtime) é: 114.0\n",
            "89 percentil da duração (runtime) é: 116.0\n",
            "90 percentil da duração (runtime) é: 119.0\n",
            "91 percentil da duração (runtime) é: 120.0\n",
            "92 percentil da duração (runtime) é: 122.0\n",
            "93 percentil da duração (runtime) é: 126.0\n",
            "94 percentil da duração (runtime) é: 130.0\n",
            "95 percentil da duração (runtime) é: 135.0\n",
            "96 percentil da duração (runtime) é: 139.0\n",
            "97 percentil da duração (runtime) é: 145.0\n",
            "98 percentil da duração (runtime) é: 153.0\n",
            "99 percentil da duração (runtime) é: 168.0\n",
            "100 percentil da duração (runtime) é: 51420.0\n"
          ],
          "name": "stdout"
        }
      ]
    },
    {
      "cell_type": "code",
      "metadata": {
        "id": "KEfE6SJD3DAD"
      },
      "source": [
        "# Refazendo a consulta e retornando o filme com maior duração\n",
        "consulta6 = '''\n",
        "            SELECT runtime_minutes Runtime, primary_title\n",
        "            FROM titles \n",
        "            WHERE type = 'movie' AND Runtime != 'NaN'\n",
        "            ORDER BY Runtime DESC\n",
        "            LIMIT 1\n",
        "            '''"
      ],
      "execution_count": null,
      "outputs": []
    },
    {
      "cell_type": "code",
      "metadata": {
        "id": "NUXqnO6w3Ic7"
      },
      "source": [
        "resultado6 = pd.read_sql_query(consulta6, conn)"
      ],
      "execution_count": null,
      "outputs": []
    },
    {
      "cell_type": "code",
      "metadata": {
        "colab": {
          "base_uri": "https://localhost:8080/",
          "height": 80
        },
        "id": "mVfyf9Y43LB3",
        "outputId": "c84d61c5-0cd7-4571-ebb0-ba5aa08c3203"
      },
      "source": [
        "resultado6"
      ],
      "execution_count": null,
      "outputs": [
        {
          "output_type": "execute_result",
          "data": {
            "text/html": [
              "<div>\n",
              "<style scoped>\n",
              "    .dataframe tbody tr th:only-of-type {\n",
              "        vertical-align: middle;\n",
              "    }\n",
              "\n",
              "    .dataframe tbody tr th {\n",
              "        vertical-align: top;\n",
              "    }\n",
              "\n",
              "    .dataframe thead th {\n",
              "        text-align: right;\n",
              "    }\n",
              "</style>\n",
              "<table border=\"1\" class=\"dataframe\">\n",
              "  <thead>\n",
              "    <tr style=\"text-align: right;\">\n",
              "      <th></th>\n",
              "      <th>Runtime</th>\n",
              "      <th>primary_title</th>\n",
              "    </tr>\n",
              "  </thead>\n",
              "  <tbody>\n",
              "    <tr>\n",
              "      <th>0</th>\n",
              "      <td>51420</td>\n",
              "      <td>Logistics</td>\n",
              "    </tr>\n",
              "  </tbody>\n",
              "</table>\n",
              "</div>"
            ],
            "text/plain": [
              "   Runtime primary_title\n",
              "0    51420     Logistics"
            ]
          },
          "metadata": {},
          "execution_count": 82
        }
      ]
    },
    {
      "cell_type": "markdown",
      "metadata": {
        "id": "5W0JsIQf3RnY"
      },
      "source": [
        "\n",
        "### 'Logistics' é o filme mais longo da história (até este momento), com 857 horas (51420 minutos). Dirigido por Daniel Andersson e Erika Magnusson, o filme foi lançado em 2012 e acompanha todo o ciclo de vida de um pedômetro (dispositivo de rastreamento de passos) em ordem cronológica reversa.\n"
      ]
    },
    {
      "cell_type": "markdown",
      "metadata": {
        "id": "9IgVewHF7_DB"
      },
      "source": [
        "#**7- Qual a Relação Entre Duração e Gênero?**\n",
        "Relação entre duração do filme e gênero."
      ]
    },
    {
      "cell_type": "code",
      "metadata": {
        "id": "82c6ab4X8Elr"
      },
      "source": [
        "# Criando a consulta SQL \n",
        "consulta7 = '''\n",
        "            SELECT AVG(runtime_minutes) Runtime, genres \n",
        "            FROM titles \n",
        "            WHERE type = 'movie'\n",
        "            AND runtime_minutes != 'NaN'\n",
        "            GROUP BY genres\n",
        "            '''"
      ],
      "execution_count": null,
      "outputs": []
    },
    {
      "cell_type": "code",
      "metadata": {
        "id": "5K9uQKaM8QKx"
      },
      "source": [
        "# Resultado\n",
        "resultado7 = pd.read_sql_query(consulta7, conn)"
      ],
      "execution_count": null,
      "outputs": []
    },
    {
      "cell_type": "code",
      "metadata": {
        "id": "fwJwnvQa8Sd9"
      },
      "source": [
        "# Retornando gêneros únicos\n",
        "generos_unicos = retorna_generos(resultado7)"
      ],
      "execution_count": null,
      "outputs": []
    },
    {
      "cell_type": "code",
      "metadata": {
        "colab": {
          "base_uri": "https://localhost:8080/"
        },
        "id": "gBp4SNP48WB8",
        "outputId": "194c0c59-37bf-4e5f-b42b-8b0627f5c8a0"
      },
      "source": [
        "# Visualizando\n",
        "generos_unicos"
      ],
      "execution_count": null,
      "outputs": [
        {
          "output_type": "execute_result",
          "data": {
            "text/plain": [
              "['action',\n",
              " 'adult',\n",
              " 'adventure',\n",
              " 'animation',\n",
              " 'biography',\n",
              " 'comedy',\n",
              " 'crime',\n",
              " 'documentary',\n",
              " 'drama',\n",
              " 'family',\n",
              " 'fantasy',\n",
              " 'film-noir',\n",
              " 'game-show',\n",
              " 'history',\n",
              " 'horror',\n",
              " 'music',\n",
              " 'musical',\n",
              " 'mystery',\n",
              " 'news',\n",
              " 'reality-tv',\n",
              " 'romance',\n",
              " 'sci-fi',\n",
              " 'short',\n",
              " 'sport',\n",
              " 'talk-show',\n",
              " 'thriller',\n",
              " 'war',\n",
              " 'western']"
            ]
          },
          "metadata": {},
          "execution_count": 86
        }
      ]
    },
    {
      "cell_type": "code",
      "metadata": {
        "id": "Ck5lBrmn8ZFo"
      },
      "source": [
        "# Calculando duração por gênero\n",
        "genero_runtime = []\n",
        "for item in generos_unicos:\n",
        "    consulta = 'SELECT runtime_minutes Runtime FROM  titles  WHERE genres LIKE '+ '\\''+'%'+item+'%'+'\\' AND type=\\'movie\\' AND Runtime!=\\'NaN\\''\n",
        "    resultado = pd.read_sql_query(consulta, conn)\n",
        "    genero_runtime.append(np.median(resultado['Runtime']))"
      ],
      "execution_count": null,
      "outputs": []
    },
    {
      "cell_type": "code",
      "metadata": {
        "id": "TSMEOwJm8c0A"
      },
      "source": [
        "# Preparando o dataframe\n",
        "df_genero_runtime = pd.DataFrame()\n",
        "df_genero_runtime['genre'] = generos_unicos\n",
        "df_genero_runtime['runtime'] = genero_runtime"
      ],
      "execution_count": null,
      "outputs": []
    },
    {
      "cell_type": "code",
      "metadata": {
        "id": "a2cOQR0O8lIh"
      },
      "source": [
        "# Removendo o índice 18 (news)\n",
        "df_genero_runtime = df_genero_runtime.drop(index = 18)"
      ],
      "execution_count": null,
      "outputs": []
    },
    {
      "cell_type": "code",
      "metadata": {
        "id": "IoRnvR2s8rzg"
      },
      "source": [
        "# Ordenando os dados\n",
        "df_genero_runtime = df_genero_runtime.sort_values(by = 'runtime', ascending = False)"
      ],
      "execution_count": null,
      "outputs": []
    },
    {
      "cell_type": "code",
      "metadata": {
        "colab": {
          "base_uri": "https://localhost:8080/",
          "height": 563
        },
        "id": "lz5bV0M38u8K",
        "outputId": "d4de1ba4-1c27-4cea-b901-030cbd3864e1"
      },
      "source": [
        "# Plot\n",
        "\n",
        "# Tamanho da figura\n",
        "plt.figure(figsize = (16,8))\n",
        "\n",
        "# Barplot\n",
        "sns.barplot(y = df_genero_runtime.genre, x = df_genero_runtime.runtime, orient = \"h\")\n",
        "\n",
        "# Loop\n",
        "for i in range(len(df_genero_runtime.index)):\n",
        "    plt.text(df_genero_runtime.runtime[df_genero_runtime.index[i]],\n",
        "             i + 0.25,\n",
        "             round(df_genero_runtime[\"runtime\"][df_genero_runtime.index[i]], 2))\n",
        "\n",
        "plt.ylabel('Gênero')             \n",
        "plt.xlabel('\\nMediana de Tempo de Duração (Minutos)')\n",
        "plt.title('\\nRelação Entre Duração e Gênero\\n')\n",
        "plt.show()"
      ],
      "execution_count": null,
      "outputs": [
        {
          "output_type": "display_data",
          "data": {
            "image/png": "[encoded data removed]",
            "text/plain": [
              "<Figure size 1152x576 with 1 Axes>"
            ]
          },
          "metadata": {}
        }
      ]
    },
    {
      "cell_type": "markdown",
      "metadata": {
        "id": "2COFcpMO84QA"
      },
      "source": [
        "#**8- Qual o Número de Filmes Produzidos Por País?**\n",
        "Número de filmes produzidos por país."
      ]
    },
    {
      "cell_type": "code",
      "metadata": {
        "id": "csvx3L4u9AII"
      },
      "source": [
        "# Criando a consulta SQL \n",
        "consulta8 = '''\n",
        "            SELECT region, COUNT(*) Number_of_movies FROM \n",
        "            akas JOIN titles ON \n",
        "            akas.title_id = titles.title_id\n",
        "            WHERE region != 'None'\n",
        "            AND type = \\'movie\\'\n",
        "            GROUP BY region\n",
        "            '''"
      ],
      "execution_count": null,
      "outputs": []
    },
    {
      "cell_type": "code",
      "metadata": {
        "id": "8Mye6Mbz9DtH"
      },
      "source": [
        "# Resultado\n",
        "resultado8 = pd.read_sql_query(consulta8, conn)"
      ],
      "execution_count": null,
      "outputs": []
    },
    {
      "cell_type": "code",
      "metadata": {
        "colab": {
          "base_uri": "https://localhost:8080/",
          "height": 419
        },
        "id": "X-DAm8AG9Gji",
        "outputId": "6d86060d-67c5-4181-d61f-762cf2f208c0"
      },
      "source": [
        "display(resultado8)"
      ],
      "execution_count": null,
      "outputs": [
        {
          "output_type": "display_data",
          "data": {
            "text/html": [
              "<div>\n",
              "<style scoped>\n",
              "    .dataframe tbody tr th:only-of-type {\n",
              "        vertical-align: middle;\n",
              "    }\n",
              "\n",
              "    .dataframe tbody tr th {\n",
              "        vertical-align: top;\n",
              "    }\n",
              "\n",
              "    .dataframe thead th {\n",
              "        text-align: right;\n",
              "    }\n",
              "</style>\n",
              "<table border=\"1\" class=\"dataframe\">\n",
              "  <thead>\n",
              "    <tr style=\"text-align: right;\">\n",
              "      <th></th>\n",
              "      <th>region</th>\n",
              "      <th>Number_of_movies</th>\n",
              "    </tr>\n",
              "  </thead>\n",
              "  <tbody>\n",
              "    <tr>\n",
              "      <th>0</th>\n",
              "      <td>AD</td>\n",
              "      <td>22</td>\n",
              "    </tr>\n",
              "    <tr>\n",
              "      <th>1</th>\n",
              "      <td>AE</td>\n",
              "      <td>376</td>\n",
              "    </tr>\n",
              "    <tr>\n",
              "      <th>2</th>\n",
              "      <td>AF</td>\n",
              "      <td>109</td>\n",
              "    </tr>\n",
              "    <tr>\n",
              "      <th>3</th>\n",
              "      <td>AG</td>\n",
              "      <td>12</td>\n",
              "    </tr>\n",
              "    <tr>\n",
              "      <th>4</th>\n",
              "      <td>AL</td>\n",
              "      <td>1233</td>\n",
              "    </tr>\n",
              "    <tr>\n",
              "      <th>...</th>\n",
              "      <td>...</td>\n",
              "      <td>...</td>\n",
              "    </tr>\n",
              "    <tr>\n",
              "      <th>229</th>\n",
              "      <td>YUCS</td>\n",
              "      <td>146</td>\n",
              "    </tr>\n",
              "    <tr>\n",
              "      <th>230</th>\n",
              "      <td>ZA</td>\n",
              "      <td>3030</td>\n",
              "    </tr>\n",
              "    <tr>\n",
              "      <th>231</th>\n",
              "      <td>ZM</td>\n",
              "      <td>11</td>\n",
              "    </tr>\n",
              "    <tr>\n",
              "      <th>232</th>\n",
              "      <td>ZRCD</td>\n",
              "      <td>2</td>\n",
              "    </tr>\n",
              "    <tr>\n",
              "      <th>233</th>\n",
              "      <td>ZW</td>\n",
              "      <td>48</td>\n",
              "    </tr>\n",
              "  </tbody>\n",
              "</table>\n",
              "<p>234 rows × 2 columns</p>\n",
              "</div>"
            ],
            "text/plain": [
              "    region  Number_of_movies\n",
              "0       AD                22\n",
              "1       AE               376\n",
              "2       AF               109\n",
              "3       AG                12\n",
              "4       AL              1233\n",
              "..     ...               ...\n",
              "229   YUCS               146\n",
              "230     ZA              3030\n",
              "231     ZM                11\n",
              "232   ZRCD                 2\n",
              "233     ZW                48\n",
              "\n",
              "[234 rows x 2 columns]"
            ]
          },
          "metadata": {}
        }
      ]
    },
    {
      "cell_type": "code",
      "metadata": {
        "id": "Cs3zH1PR9OaX"
      },
      "source": [
        "# Listas auxiliares\n",
        "nomes_paises = []\n",
        "contagem = []"
      ],
      "execution_count": null,
      "outputs": []
    },
    {
      "cell_type": "code",
      "metadata": {
        "id": "cLnm-2SZ9Rjt"
      },
      "source": [
        "# Loop para obter o país de acordo com a região\n",
        "for i in range(resultado8.shape[0]):\n",
        "    try:\n",
        "        coun = resultado8['region'].values[i]\n",
        "        nomes_paises.append(pycountry.countries.get(alpha_2 = coun).name)\n",
        "        contagem.append(resultado8['Number_of_movies'].values[i])\n",
        "    except: \n",
        "        continue"
      ],
      "execution_count": null,
      "outputs": []
    },
    {
      "cell_type": "code",
      "metadata": {
        "id": "wlyRxf1Y9Zi1"
      },
      "source": [
        "# Preparando o dataframe\n",
        "df_filmes_paises = pd.DataFrame()\n",
        "df_filmes_paises['country'] = nomes_paises\n",
        "df_filmes_paises['Movie_Count'] = contagem"
      ],
      "execution_count": null,
      "outputs": []
    },
    {
      "cell_type": "code",
      "metadata": {
        "id": "fyhnboDA9cw9"
      },
      "source": [
        "# Ordenando o resultado\n",
        "df_filmes_paises = df_filmes_paises.sort_values(by = 'Movie_Count', ascending = False)"
      ],
      "execution_count": null,
      "outputs": []
    },
    {
      "cell_type": "code",
      "metadata": {
        "colab": {
          "base_uri": "https://localhost:8080/",
          "height": 359
        },
        "id": "IbntJkgA9gcf",
        "outputId": "b80dcf65-c391-4490-b290-2d4d2f1d105d"
      },
      "source": [
        "# Visualizando\n",
        "df_filmes_paises.head(10)"
      ],
      "execution_count": null,
      "outputs": [
        {
          "output_type": "execute_result",
          "data": {
            "text/html": [
              "<div>\n",
              "<style scoped>\n",
              "    .dataframe tbody tr th:only-of-type {\n",
              "        vertical-align: middle;\n",
              "    }\n",
              "\n",
              "    .dataframe tbody tr th {\n",
              "        vertical-align: top;\n",
              "    }\n",
              "\n",
              "    .dataframe thead th {\n",
              "        text-align: right;\n",
              "    }\n",
              "</style>\n",
              "<table border=\"1\" class=\"dataframe\">\n",
              "  <thead>\n",
              "    <tr style=\"text-align: right;\">\n",
              "      <th></th>\n",
              "      <th>country</th>\n",
              "      <th>Movie_Count</th>\n",
              "    </tr>\n",
              "  </thead>\n",
              "  <tbody>\n",
              "    <tr>\n",
              "      <th>199</th>\n",
              "      <td>United States</td>\n",
              "      <td>292047</td>\n",
              "    </tr>\n",
              "    <tr>\n",
              "      <th>65</th>\n",
              "      <td>United Kingdom</td>\n",
              "      <td>149071</td>\n",
              "    </tr>\n",
              "    <tr>\n",
              "      <th>96</th>\n",
              "      <td>Japan</td>\n",
              "      <td>88594</td>\n",
              "    </tr>\n",
              "    <tr>\n",
              "      <th>63</th>\n",
              "      <td>France</td>\n",
              "      <td>81613</td>\n",
              "    </tr>\n",
              "    <tr>\n",
              "      <th>89</th>\n",
              "      <td>India</td>\n",
              "      <td>73343</td>\n",
              "    </tr>\n",
              "    <tr>\n",
              "      <th>32</th>\n",
              "      <td>Canada</td>\n",
              "      <td>69531</td>\n",
              "    </tr>\n",
              "    <tr>\n",
              "      <th>47</th>\n",
              "      <td>Germany</td>\n",
              "      <td>66258</td>\n",
              "    </tr>\n",
              "    <tr>\n",
              "      <th>93</th>\n",
              "      <td>Italy</td>\n",
              "      <td>63528</td>\n",
              "    </tr>\n",
              "    <tr>\n",
              "      <th>26</th>\n",
              "      <td>Brazil</td>\n",
              "      <td>62429</td>\n",
              "    </tr>\n",
              "    <tr>\n",
              "      <th>58</th>\n",
              "      <td>Spain</td>\n",
              "      <td>62164</td>\n",
              "    </tr>\n",
              "  </tbody>\n",
              "</table>\n",
              "</div>"
            ],
            "text/plain": [
              "            country  Movie_Count\n",
              "199   United States       292047\n",
              "65   United Kingdom       149071\n",
              "96            Japan        88594\n",
              "63           France        81613\n",
              "89            India        73343\n",
              "32           Canada        69531\n",
              "47          Germany        66258\n",
              "93            Italy        63528\n",
              "26           Brazil        62429\n",
              "58            Spain        62164"
            ]
          },
          "metadata": {},
          "execution_count": 104
        }
      ]
    },
    {
      "cell_type": "code",
      "metadata": {
        "colab": {
          "base_uri": "https://localhost:8080/",
          "height": 556
        },
        "id": "HLAdja609laY",
        "outputId": "463dc4f2-e497-43ee-b9e4-eabd9c7bd4d3"
      },
      "source": [
        "# Plot\n",
        "\n",
        "# Figura\n",
        "plt.figure(figsize = (20,8))\n",
        "\n",
        "# Barplot\n",
        "sns.barplot(y = df_filmes_paises[:20].country, x = df_filmes_paises[:20].Movie_Count, orient = \"h\")\n",
        "\n",
        "# Loop\n",
        "for i in range(0,20):\n",
        "    plt.text(df_filmes_paises.Movie_Count[df_filmes_paises.index[i]]-1,\n",
        "             i + 0.30,\n",
        "             round(df_filmes_paises[\"Movie_Count\"][df_filmes_paises.index[i]],2))\n",
        "\n",
        "plt.ylabel('País')             \n",
        "plt.xlabel('\\nNúmero de Filmes')\n",
        "plt.title('\\nNúmero de Filmes Produzidos Por País\\n')\n",
        "plt.show()"
      ],
      "execution_count": null,
      "outputs": [
        {
          "output_type": "display_data",
          "data": {
            "image/png": "[encoded data removed]",
            "text/plain": [
              "<Figure size 1440x576 with 1 Axes>"
            ]
          },
          "metadata": {}
        }
      ]
    },
    {
      "cell_type": "markdown",
      "metadata": {
        "id": "TO14bjc-9trQ"
      },
      "source": [
        "#**9- Quais São os Top 10 Melhores Filmes?**\n",
        "Top 10 filmes com melhor avaliação e mais de 25 mil votos."
      ]
    },
    {
      "cell_type": "code",
      "metadata": {
        "id": "Rz9W01IW9xRj"
      },
      "source": [
        "# Criando a consulta SQL \n",
        "consulta9 = '''\n",
        "            SELECT primary_title AS Movie_Name, genres, rating\n",
        "            FROM \n",
        "            titles JOIN ratings\n",
        "            ON  titles.title_id = ratings.title_id\n",
        "            WHERE titles.type = 'movie' AND ratings.votes >= 25000\n",
        "            ORDER BY rating DESC\n",
        "            LIMIT 10          \n",
        "            '''"
      ],
      "execution_count": null,
      "outputs": []
    },
    {
      "cell_type": "code",
      "metadata": {
        "id": "P0YdZDVw91qZ"
      },
      "source": [
        "# Resultado\n",
        "top10_melhores_filmes = pd.read_sql_query(consulta9, conn)"
      ],
      "execution_count": null,
      "outputs": []
    },
    {
      "cell_type": "code",
      "metadata": {
        "colab": {
          "base_uri": "https://localhost:8080/",
          "height": 359
        },
        "id": "XyqtyMH494J4",
        "outputId": "f3647493-ae1d-48a7-80f5-8b3db849b56e"
      },
      "source": [
        "display(top10_melhores_filmes)"
      ],
      "execution_count": null,
      "outputs": [
        {
          "output_type": "display_data",
          "data": {
            "text/html": [
              "<div>\n",
              "<style scoped>\n",
              "    .dataframe tbody tr th:only-of-type {\n",
              "        vertical-align: middle;\n",
              "    }\n",
              "\n",
              "    .dataframe tbody tr th {\n",
              "        vertical-align: top;\n",
              "    }\n",
              "\n",
              "    .dataframe thead th {\n",
              "        text-align: right;\n",
              "    }\n",
              "</style>\n",
              "<table border=\"1\" class=\"dataframe\">\n",
              "  <thead>\n",
              "    <tr style=\"text-align: right;\">\n",
              "      <th></th>\n",
              "      <th>Movie_Name</th>\n",
              "      <th>genres</th>\n",
              "      <th>rating</th>\n",
              "    </tr>\n",
              "  </thead>\n",
              "  <tbody>\n",
              "    <tr>\n",
              "      <th>0</th>\n",
              "      <td>The Shawshank Redemption</td>\n",
              "      <td>Drama</td>\n",
              "      <td>9.3</td>\n",
              "    </tr>\n",
              "    <tr>\n",
              "      <th>1</th>\n",
              "      <td>The Chaos Class</td>\n",
              "      <td>Comedy,Drama</td>\n",
              "      <td>9.3</td>\n",
              "    </tr>\n",
              "    <tr>\n",
              "      <th>2</th>\n",
              "      <td>The Godfather</td>\n",
              "      <td>Crime,Drama</td>\n",
              "      <td>9.2</td>\n",
              "    </tr>\n",
              "    <tr>\n",
              "      <th>3</th>\n",
              "      <td>CM101MMXI Fundamentals</td>\n",
              "      <td>Comedy,Documentary</td>\n",
              "      <td>9.2</td>\n",
              "    </tr>\n",
              "    <tr>\n",
              "      <th>4</th>\n",
              "      <td>Soorarai Pottru</td>\n",
              "      <td>Drama</td>\n",
              "      <td>9.1</td>\n",
              "    </tr>\n",
              "    <tr>\n",
              "      <th>5</th>\n",
              "      <td>12 Angry Men</td>\n",
              "      <td>Crime,Drama</td>\n",
              "      <td>9.0</td>\n",
              "    </tr>\n",
              "    <tr>\n",
              "      <th>6</th>\n",
              "      <td>The Godfather: Part II</td>\n",
              "      <td>Crime,Drama</td>\n",
              "      <td>9.0</td>\n",
              "    </tr>\n",
              "    <tr>\n",
              "      <th>7</th>\n",
              "      <td>The Dark Knight</td>\n",
              "      <td>Action,Crime,Drama</td>\n",
              "      <td>9.0</td>\n",
              "    </tr>\n",
              "    <tr>\n",
              "      <th>8</th>\n",
              "      <td>David Attenborough: A Life on Our Planet</td>\n",
              "      <td>Biography,Documentary</td>\n",
              "      <td>9.0</td>\n",
              "    </tr>\n",
              "    <tr>\n",
              "      <th>9</th>\n",
              "      <td>Schindler's List</td>\n",
              "      <td>Biography,Drama,History</td>\n",
              "      <td>8.9</td>\n",
              "    </tr>\n",
              "  </tbody>\n",
              "</table>\n",
              "</div>"
            ],
            "text/plain": [
              "                                 Movie_Name                   genres  rating\n",
              "0                  The Shawshank Redemption                    Drama     9.3\n",
              "1                           The Chaos Class             Comedy,Drama     9.3\n",
              "2                             The Godfather              Crime,Drama     9.2\n",
              "3                    CM101MMXI Fundamentals       Comedy,Documentary     9.2\n",
              "4                           Soorarai Pottru                    Drama     9.1\n",
              "5                              12 Angry Men              Crime,Drama     9.0\n",
              "6                    The Godfather: Part II              Crime,Drama     9.0\n",
              "7                           The Dark Knight       Action,Crime,Drama     9.0\n",
              "8  David Attenborough: A Life on Our Planet    Biography,Documentary     9.0\n",
              "9                          Schindler's List  Biography,Drama,History     8.9"
            ]
          },
          "metadata": {}
        }
      ]
    },
    {
      "cell_type": "markdown",
      "metadata": {
        "id": "F-nQfKSv9_FS"
      },
      "source": [
        "#**10- Quais São os Top 10 Piores Filmes?**\n",
        "Top 10 filmes com pior avaliação e mais de 25 mil votos."
      ]
    },
    {
      "cell_type": "code",
      "metadata": {
        "id": "2NsFcGSk-FR5"
      },
      "source": [
        "# Criando a consulta SQL \n",
        "consulta10 = '''\n",
        "            SELECT primary_title AS Movie_Name, genres, rating\n",
        "            FROM \n",
        "            titles JOIN ratings\n",
        "            ON  titles.title_id = ratings.title_id\n",
        "            WHERE titles.type = 'movie' AND ratings.votes >= 25000\n",
        "            ORDER BY rating ASC\n",
        "            LIMIT 10\n",
        "            '''"
      ],
      "execution_count": null,
      "outputs": []
    },
    {
      "cell_type": "code",
      "metadata": {
        "id": "OlPSjwc0-JYZ"
      },
      "source": [
        "# Resultado\n",
        "top10_piores_filmes = pd.read_sql_query(consulta10, conn)"
      ],
      "execution_count": null,
      "outputs": []
    },
    {
      "cell_type": "code",
      "metadata": {
        "colab": {
          "base_uri": "https://localhost:8080/",
          "height": 359
        },
        "id": "ozk3s1pW-L_x",
        "outputId": "043b7275-e2f7-4f80-a616-20fa5cd1862a"
      },
      "source": [
        "display(top10_piores_filmes)"
      ],
      "execution_count": null,
      "outputs": [
        {
          "output_type": "display_data",
          "data": {
            "text/html": [
              "<div>\n",
              "<style scoped>\n",
              "    .dataframe tbody tr th:only-of-type {\n",
              "        vertical-align: middle;\n",
              "    }\n",
              "\n",
              "    .dataframe tbody tr th {\n",
              "        vertical-align: top;\n",
              "    }\n",
              "\n",
              "    .dataframe thead th {\n",
              "        text-align: right;\n",
              "    }\n",
              "</style>\n",
              "<table border=\"1\" class=\"dataframe\">\n",
              "  <thead>\n",
              "    <tr style=\"text-align: right;\">\n",
              "      <th></th>\n",
              "      <th>Movie_Name</th>\n",
              "      <th>genres</th>\n",
              "      <th>rating</th>\n",
              "    </tr>\n",
              "  </thead>\n",
              "  <tbody>\n",
              "    <tr>\n",
              "      <th>0</th>\n",
              "      <td>Cumali Ceber</td>\n",
              "      <td>Comedy</td>\n",
              "      <td>1.0</td>\n",
              "    </tr>\n",
              "    <tr>\n",
              "      <th>1</th>\n",
              "      <td>Smolensk</td>\n",
              "      <td>Drama,Thriller</td>\n",
              "      <td>1.1</td>\n",
              "    </tr>\n",
              "    <tr>\n",
              "      <th>2</th>\n",
              "      <td>Sadak 2</td>\n",
              "      <td>Action,Drama</td>\n",
              "      <td>1.1</td>\n",
              "    </tr>\n",
              "    <tr>\n",
              "      <th>3</th>\n",
              "      <td>Reis</td>\n",
              "      <td>Biography,Drama</td>\n",
              "      <td>1.4</td>\n",
              "    </tr>\n",
              "    <tr>\n",
              "      <th>4</th>\n",
              "      <td>Justin Bieber: Never Say Never</td>\n",
              "      <td>Documentary,Music</td>\n",
              "      <td>1.6</td>\n",
              "    </tr>\n",
              "    <tr>\n",
              "      <th>5</th>\n",
              "      <td>Manos: The Hands of Fate</td>\n",
              "      <td>Drama,Horror</td>\n",
              "      <td>1.8</td>\n",
              "    </tr>\n",
              "    <tr>\n",
              "      <th>6</th>\n",
              "      <td>Radhe</td>\n",
              "      <td>Action,Crime,Thriller</td>\n",
              "      <td>1.8</td>\n",
              "    </tr>\n",
              "    <tr>\n",
              "      <th>7</th>\n",
              "      <td>Superbabies: Baby Geniuses 2</td>\n",
              "      <td>Comedy,Family,Sci-Fi</td>\n",
              "      <td>1.9</td>\n",
              "    </tr>\n",
              "    <tr>\n",
              "      <th>8</th>\n",
              "      <td>The Hottie &amp; the Nottie</td>\n",
              "      <td>Comedy,Romance</td>\n",
              "      <td>1.9</td>\n",
              "    </tr>\n",
              "    <tr>\n",
              "      <th>9</th>\n",
              "      <td>Disaster Movie</td>\n",
              "      <td>Comedy,Sci-Fi</td>\n",
              "      <td>1.9</td>\n",
              "    </tr>\n",
              "  </tbody>\n",
              "</table>\n",
              "</div>"
            ],
            "text/plain": [
              "                       Movie_Name                 genres  rating\n",
              "0                    Cumali Ceber                 Comedy     1.0\n",
              "1                        Smolensk         Drama,Thriller     1.1\n",
              "2                         Sadak 2           Action,Drama     1.1\n",
              "3                            Reis        Biography,Drama     1.4\n",
              "4  Justin Bieber: Never Say Never      Documentary,Music     1.6\n",
              "5        Manos: The Hands of Fate           Drama,Horror     1.8\n",
              "6                           Radhe  Action,Crime,Thriller     1.8\n",
              "7    Superbabies: Baby Geniuses 2   Comedy,Family,Sci-Fi     1.9\n",
              "8         The Hottie & the Nottie         Comedy,Romance     1.9\n",
              "9                  Disaster Movie          Comedy,Sci-Fi     1.9"
            ]
          },
          "metadata": {}
        }
      ]
    }
  ]
}